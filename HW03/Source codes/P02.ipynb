{
 "cells": [
  {
   "cell_type": "markdown",
   "metadata": {
    "id": "dJmmFIE9U-Vi"
   },
   "source": [
    "# **Problem 2: Airplane crash**\n",
    "\n",
    "\n",
    "\n"
   ]
  },
  {
   "cell_type": "code",
   "execution_count": 1,
   "metadata": {},
   "outputs": [],
   "source": [
    "import pandas as pd\n",
    "from sklearn.model_selection import train_test_split\n",
    "from sklearn.svm import SVC\n",
    "from sklearn.metrics import accuracy_score, precision_score, recall_score\n",
    "from sklearn.preprocessing import LabelEncoder\n",
    "from sklearn.model_selection import GridSearchCV\n"
   ]
  },
  {
   "cell_type": "markdown",
   "metadata": {},
   "source": [
    "# A."
   ]
  },
  {
   "cell_type": "code",
   "execution_count": 2,
   "metadata": {},
   "outputs": [
    {
     "data": {
      "text/html": [
       "<div>\n",
       "<style scoped>\n",
       "    .dataframe tbody tr th:only-of-type {\n",
       "        vertical-align: middle;\n",
       "    }\n",
       "\n",
       "    .dataframe tbody tr th {\n",
       "        vertical-align: top;\n",
       "    }\n",
       "\n",
       "    .dataframe thead th {\n",
       "        text-align: right;\n",
       "    }\n",
       "</style>\n",
       "<table border=\"1\" class=\"dataframe\">\n",
       "  <thead>\n",
       "    <tr style=\"text-align: right;\">\n",
       "      <th></th>\n",
       "      <th>Unnamed: 0</th>\n",
       "      <th>PassengerId</th>\n",
       "      <th>Survived</th>\n",
       "      <th>Class</th>\n",
       "      <th>Name</th>\n",
       "      <th>Sex</th>\n",
       "      <th>Age</th>\n",
       "      <th>Ticket Price</th>\n",
       "      <th>Safety</th>\n",
       "    </tr>\n",
       "  </thead>\n",
       "  <tbody>\n",
       "    <tr>\n",
       "      <th>0</th>\n",
       "      <td>0</td>\n",
       "      <td>1</td>\n",
       "      <td>Didn't Survive</td>\n",
       "      <td>Economy</td>\n",
       "      <td>Braund, Mr. Owen Harris</td>\n",
       "      <td>male</td>\n",
       "      <td>22.0</td>\n",
       "      <td>7.2500</td>\n",
       "      <td>0.336957</td>\n",
       "    </tr>\n",
       "    <tr>\n",
       "      <th>1</th>\n",
       "      <td>1</td>\n",
       "      <td>2</td>\n",
       "      <td>Survived</td>\n",
       "      <td>First Class</td>\n",
       "      <td>Cumings, Mrs. John Bradley (Florence Briggs Th...</td>\n",
       "      <td>female</td>\n",
       "      <td>38.0</td>\n",
       "      <td>71.2833</td>\n",
       "      <td>0.553571</td>\n",
       "    </tr>\n",
       "    <tr>\n",
       "      <th>2</th>\n",
       "      <td>2</td>\n",
       "      <td>3</td>\n",
       "      <td>Survived</td>\n",
       "      <td>Economy</td>\n",
       "      <td>Heikkinen, Miss. Laina</td>\n",
       "      <td>female</td>\n",
       "      <td>26.0</td>\n",
       "      <td>7.9250</td>\n",
       "      <td>0.336957</td>\n",
       "    </tr>\n",
       "    <tr>\n",
       "      <th>3</th>\n",
       "      <td>3</td>\n",
       "      <td>4</td>\n",
       "      <td>Survived</td>\n",
       "      <td>First Class</td>\n",
       "      <td>Futrelle, Mrs. Jacques Heath (Lily May Peel)</td>\n",
       "      <td>female</td>\n",
       "      <td>35.0</td>\n",
       "      <td>53.1000</td>\n",
       "      <td>0.336957</td>\n",
       "    </tr>\n",
       "    <tr>\n",
       "      <th>4</th>\n",
       "      <td>4</td>\n",
       "      <td>5</td>\n",
       "      <td>Didn't Survive</td>\n",
       "      <td>Economy</td>\n",
       "      <td>Allen, Mr. William Henry</td>\n",
       "      <td>male</td>\n",
       "      <td>35.0</td>\n",
       "      <td>8.0500</td>\n",
       "      <td>0.336957</td>\n",
       "    </tr>\n",
       "  </tbody>\n",
       "</table>\n",
       "</div>"
      ],
      "text/plain": [
       "   Unnamed: 0  PassengerId        Survived        Class  \\\n",
       "0           0            1  Didn't Survive      Economy   \n",
       "1           1            2        Survived  First Class   \n",
       "2           2            3        Survived      Economy   \n",
       "3           3            4        Survived  First Class   \n",
       "4           4            5  Didn't Survive      Economy   \n",
       "\n",
       "                                                Name     Sex   Age  \\\n",
       "0                            Braund, Mr. Owen Harris    male  22.0   \n",
       "1  Cumings, Mrs. John Bradley (Florence Briggs Th...  female  38.0   \n",
       "2                             Heikkinen, Miss. Laina  female  26.0   \n",
       "3       Futrelle, Mrs. Jacques Heath (Lily May Peel)  female  35.0   \n",
       "4                           Allen, Mr. William Henry    male  35.0   \n",
       "\n",
       "   Ticket Price    Safety  \n",
       "0        7.2500  0.336957  \n",
       "1       71.2833  0.553571  \n",
       "2        7.9250  0.336957  \n",
       "3       53.1000  0.336957  \n",
       "4        8.0500  0.336957  "
      ]
     },
     "execution_count": 2,
     "metadata": {},
     "output_type": "execute_result"
    }
   ],
   "source": [
    "data = pd.read_csv('crash.csv')\n",
    "data.head()"
   ]
  },
  {
   "cell_type": "code",
   "execution_count": 3,
   "metadata": {},
   "outputs": [
    {
     "name": "stdout",
     "output_type": "stream",
     "text": [
      "\n",
      "Missing values in each column:\n",
      "Unnamed: 0        0\n",
      "PassengerId       0\n",
      "Survived          0\n",
      "Class             0\n",
      "Name              0\n",
      "Sex               0\n",
      "Age             177\n",
      "Ticket Price      0\n",
      "Safety            2\n",
      "dtype: int64\n"
     ]
    }
   ],
   "source": [
    "# Check for missing values\n",
    "missing_values = data.isnull().sum()\n",
    "print(\"\\nMissing values in each column:\")\n",
    "print(missing_values)"
   ]
  },
  {
   "cell_type": "code",
   "execution_count": 4,
   "metadata": {},
   "outputs": [
    {
     "name": "stdout",
     "output_type": "stream",
     "text": [
      "Unnamed: 0      0\n",
      "PassengerId     0\n",
      "Survived        0\n",
      "Class           0\n",
      "Name            0\n",
      "Sex             0\n",
      "Age             0\n",
      "Ticket Price    0\n",
      "Safety          0\n",
      "dtype: int64\n"
     ]
    }
   ],
   "source": [
    "# Fill missing values in the 'Age' and 'Safety' columns with their respective mean\n",
    "data.fillna({'Age': data['Age'].mean(), 'Safety': data['Safety'].mean()}, inplace= True)\n",
    "\n",
    "# Verify there are no more missing values\n",
    "missing_values_after = data.isnull().sum()\n",
    "print(missing_values_after)"
   ]
  },
  {
   "cell_type": "markdown",
   "metadata": {},
   "source": [
    "# B."
   ]
  },
  {
   "cell_type": "code",
   "execution_count": 5,
   "metadata": {},
   "outputs": [
    {
     "data": {
      "text/plain": [
       "(891, 9)"
      ]
     },
     "execution_count": 5,
     "metadata": {},
     "output_type": "execute_result"
    }
   ],
   "source": [
    "# Selecting features (X) and target (y)\n",
    "X = data.drop(columns=['Survived', 'Name', 'PassengerId', 'Unnamed: 0'])  # Features\n",
    "y = data['Survived']  # Target\n",
    "\n",
    "data.shape"
   ]
  },
  {
   "cell_type": "code",
   "execution_count": 6,
   "metadata": {},
   "outputs": [
    {
     "name": "stdout",
     "output_type": "stream",
     "text": [
      "Training set size: (712, 5), Test set size: (179, 5)\n"
     ]
    }
   ],
   "source": [
    "X_train, X_test, y_train, y_test = train_test_split(X, y, test_size=0.2, random_state=42)\n",
    "\n",
    "# Display sizes of train and test sets\n",
    "print(f\"Training set size: {X_train.shape}, Test set size: {X_test.shape}\")"
   ]
  },
  {
   "cell_type": "markdown",
   "metadata": {},
   "source": [
    "# C."
   ]
  },
  {
   "cell_type": "code",
   "execution_count": 7,
   "metadata": {},
   "outputs": [
    {
     "name": "stdout",
     "output_type": "stream",
     "text": [
      "Accuracy: 0.7821\n",
      "Precision: 0.7536\n",
      "Recall: 0.7027\n"
     ]
    }
   ],
   "source": [
    "# Convert categorical data to numeric \n",
    "encoder = LabelEncoder()\n",
    "data['Class'] = encoder.fit_transform(data['Class'])  \n",
    "data['Sex'] = encoder.fit_transform(data['Sex'])      \n",
    "data['Survived'] = encoder.fit_transform(data['Survived']) \n",
    "\n",
    "X = data.drop(columns=['Survived', 'Name', 'PassengerId', 'Unnamed: 0'])  \n",
    "y = data['Survived']  \n",
    "X_train, X_test, y_train, y_test = train_test_split(X, y, test_size=0.2, random_state=42)\n",
    "\n",
    "# Build and train SVM model\n",
    "model = SVC(kernel='linear', random_state=42)\n",
    "model.fit(X_train, y_train)\n",
    "\n",
    "y_pred = model.predict(X_test)\n",
    "\n",
    "accuracy = accuracy_score(y_test, y_pred)\n",
    "precision = precision_score(y_test, y_pred)\n",
    "recall = recall_score(y_test, y_pred)\n",
    "\n",
    "print(f\"Accuracy: {accuracy:.4f}\")\n",
    "print(f\"Precision: {precision:.4f}\")\n",
    "print(f\"Recall: {recall:.4f}\")"
   ]
  },
  {
   "cell_type": "markdown",
   "metadata": {},
   "source": [
    "# D."
   ]
  },
  {
   "cell_type": "code",
   "execution_count": 8,
   "metadata": {},
   "outputs": [
    {
     "name": "stdout",
     "output_type": "stream",
     "text": [
      "Fitting 5 folds for each of 3 candidates, totalling 15 fits\n",
      "[CV] END ...............................C=0.1, kernel=linear; total time=   0.1s\n",
      "[CV] END ...............................C=0.1, kernel=linear; total time=   4.2s\n",
      "[CV] END ...............................C=0.1, kernel=linear; total time=   0.6s\n",
      "[CV] END ...............................C=0.1, kernel=linear; total time=   0.1s\n",
      "[CV] END ...............................C=0.1, kernel=linear; total time=   2.1s\n",
      "[CV] END .................................C=1, kernel=linear; total time=  38.2s\n",
      "[CV] END .................................C=1, kernel=linear; total time=  41.2s\n",
      "[CV] END .................................C=1, kernel=linear; total time=  28.3s\n",
      "[CV] END .................................C=1, kernel=linear; total time=  27.0s\n",
      "[CV] END .................................C=1, kernel=linear; total time=  36.7s\n",
      "[CV] END ................................C=10, kernel=linear; total time=  57.3s\n",
      "[CV] END ................................C=10, kernel=linear; total time= 1.2min\n",
      "[CV] END ................................C=10, kernel=linear; total time=  35.8s\n",
      "[CV] END ................................C=10, kernel=linear; total time=  51.6s\n",
      "[CV] END ................................C=10, kernel=linear; total time=  54.2s\n",
      "Best Parameters: {'C': 0.1, 'kernel': 'linear'}\n",
      "Best Cross-Validation Score: 0.7879\n",
      "Test Accuracy with Best Parameters: 0.7821\n"
     ]
    }
   ],
   "source": [
    "param_grid = {\n",
    "    'C': [0.1, 1, 10],        \n",
    "    'kernel': ['linear']  \n",
    "\n",
    "    # 'C': [0.1, 1, 10, 100], \n",
    "\t# 'gamma': [1, 0.1, 0.01, 0.001],  \n",
    "\t# 'kernel': ['linear', 'poly', 'rbf']   \n",
    "}\n",
    "\n",
    "model = SVC(random_state=42)\n",
    "\n",
    "# perform Grid Search with Cross_Validation \n",
    "grid_search = GridSearchCV(estimator=model, param_grid=param_grid, cv=5, scoring='accuracy', verbose=2)\n",
    "grid_search.fit(X_train, y_train)\n",
    "\n",
    "print(\"Best Parameters:\", grid_search.best_params_)\n",
    "print(\"Best Cross-Validation Score: {:.4f}\".format(grid_search.best_score_))\n",
    "\n",
    "best_model = grid_search.best_estimator_\n",
    "test_score = best_model.score(X_test, y_test)\n",
    "print(\"Test Accuracy with Best Parameters: {:.4f}\".format(test_score))"
   ]
  },
  {
   "cell_type": "markdown",
   "metadata": {},
   "source": [
    "# E."
   ]
  },
  {
   "cell_type": "markdown",
   "metadata": {},
   "source": [
    "# F."
   ]
  },
  {
   "cell_type": "code",
   "execution_count": 12,
   "metadata": {},
   "outputs": [
    {
     "name": "stdout",
     "output_type": "stream",
     "text": [
      "Test Accuracy with Best Parameters: 0.7821\n",
      "Test Precision with Best Parameters: 0.7536\n",
      "Test Recall with Best Parameters: 0.7027\n"
     ]
    }
   ],
   "source": [
    "best_model = SVC(C=0.1, kernel='linear', gamma=1, random_state=42)  \n",
    "# best_model = SVC(C=*, kernel='**', gamma=*, random_state=42)\n",
    "\n",
    "best_model.fit(X_train, y_train)\n",
    "y_pred = best_model.predict(X_test)\n",
    "\n",
    "# Evaluate the model's performance\n",
    "test_accuracy = accuracy_score(y_test, y_pred) \n",
    "test_precision = precision_score(y_test, y_pred) \n",
    "test_recall = recall_score(y_test, y_pred)  \n",
    "\n",
    "print(\"Test Accuracy with Best Parameters: {:.4f}\".format(test_accuracy))\n",
    "print(\"Test Precision with Best Parameters: {:.4f}\".format(test_precision))\n",
    "print(\"Test Recall with Best Parameters: {:.4f}\".format(test_recall))"
   ]
  }
 ],
 "metadata": {
  "colab": {
   "provenance": []
  },
  "kernelspec": {
   "display_name": "Python 3",
   "name": "python3"
  },
  "language_info": {
   "codemirror_mode": {
    "name": "ipython",
    "version": 3
   },
   "file_extension": ".py",
   "mimetype": "text/x-python",
   "name": "python",
   "nbconvert_exporter": "python",
   "pygments_lexer": "ipython3",
   "version": "3.12.4"
  }
 },
 "nbformat": 4,
 "nbformat_minor": 0
}
