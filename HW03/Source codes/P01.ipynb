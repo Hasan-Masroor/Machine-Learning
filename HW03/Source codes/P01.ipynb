{
  "cells": [
    {
      "cell_type": "markdown",
      "metadata": {},
      "source": [
        "# **Problem 1: Breast Cancer Prevention using K-Means Algorithm**"
      ]
    },
    {
      "cell_type": "code",
      "execution_count": 1,
      "metadata": {
        "id": "7pT6ccErmu_d"
      },
      "outputs": [],
      "source": [
        "import numpy as np\n",
        "import pandas as pd\n",
        "from sklearn.preprocessing import StandardScaler\n",
        "import scipy.io\n",
        "\n",
        "from sklearn.cluster import AgglomerativeClustering\n",
        "from sklearn.svm import SVC\n",
        "from sklearn.metrics import accuracy_score"
      ]
    },
    {
      "cell_type": "markdown",
      "metadata": {},
      "source": [
        "# A."
      ]
    },
    {
      "cell_type": "code",
      "execution_count": 2,
      "metadata": {
        "id": "CICg-RgZmu_i"
      },
      "outputs": [],
      "source": [
        "X = pd.read_csv('breast_data.csv')\n",
        "y = pd.read_csv('breast_labels.csv')\n",
        "init_mu = scipy.io.loadmat('init_mu.mat')"
      ]
    },
    {
      "cell_type": "code",
      "execution_count": 3,
      "metadata": {
        "id": "W0mgWcTZmu_l"
      },
      "outputs": [],
      "source": [
        "class KMeansCluster:\n",
        "    def __init__(self, k, tol, max_iter):\n",
        "        self.k = k\n",
        "        self.tol = tol\n",
        "        self.max_iter = max_iter\n",
        "        self.centers = None\n",
        "\n",
        "    def fit(self, X: np.ndarray, mu: np.ndarray):\n",
        "        # Initialize cluster centers with the provided mu\n",
        "        self.centers = mu.copy()\n",
        "\n",
        "        for _ in range(self.max_iter):\n",
        "            # Assign each data point to the nearest cluster\n",
        "            labels = self.predict(X)\n",
        "\n",
        "            # Update cluster centers\n",
        "            new_centers = []\n",
        "            for i in range(self.k):\n",
        "                new_center_of_cluster_k = X[labels == i].mean(axis=0)\n",
        "                new_centers.append(new_center_of_cluster_k)\n",
        "            new_centers = np.array(new_centers)\n",
        "\n",
        "            # Check for convergence\n",
        "            if np.linalg.norm(new_centers - self.centers) < self.tol:\n",
        "                break\n",
        "\n",
        "            # Update cluster centers for the next iteration\n",
        "            self.centers = new_centers\n",
        "\n",
        "    def accuracy(self, y: np.ndarray):\n",
        "        # Check the accuracy of the clustering\n",
        "        n_data = y.shape[0]\n",
        "        correct = 0\n",
        "        for i in range(n_data):\n",
        "            if y[i] == self.labels[i]:\n",
        "                correct += 1\n",
        "\n",
        "        acc = correct / n_data\n",
        "        if acc < 0.5:\n",
        "          acc = 1 - acc\n",
        "        return acc\n",
        "\n",
        "    def predict(self, X: np.ndarray):\n",
        "        # Assign each data point to the nearest cluster\n",
        "        distances = np.linalg.norm(X[:, np.newaxis] - self.centers, axis=2)\n",
        "        labels = np.argmin(distances, axis=1)\n",
        "        self.labels = labels\n",
        "        return labels\n",
        "\n",
        "    def sse(self):\n",
        "        if self.centers is None:\n",
        "            raise ValueError(\"Call the 'fit' method before evaluating SSE.\")\n",
        "\n",
        "        # Calculate SSE\n",
        "        sse = 0.0\n",
        "        for i in range(self.k):\n",
        "            cluster_points = X[self.labels == i]\n",
        "            sse += np.sum(np.linalg.norm(cluster_points -\n",
        "                          self.centers[i], axis=1)**2)\n",
        "\n",
        "        return sse"
      ]
    },
    {
      "cell_type": "markdown",
      "metadata": {
        "id": "OPkuTAS8mu_m"
      },
      "source": [
        "# B."
      ]
    },
    {
      "cell_type": "code",
      "execution_count": 4,
      "metadata": {
        "id": "8PCiIVlemu_m"
      },
      "outputs": [],
      "source": [
        "scaler = StandardScaler()\n",
        "X_scaled = scaler.fit_transform(X)\n",
        "y_numpy = y.to_numpy()"
      ]
    },
    {
      "cell_type": "code",
      "execution_count": 5,
      "metadata": {
        "colab": {
          "base_uri": "https://localhost:8080/"
        },
        "id": "9RAwNsdfmu_n",
        "outputId": "b156ddde-1709-45eb-857a-83c87e1fb9e4"
      },
      "outputs": [
        {
          "name": "stdout",
          "output_type": "stream",
          "text": [
            "Test 0: \n",
            "Accuracy:  0.9242957746478874\n",
            "SSE:  949275498.5759952\n",
            "\n",
            "Test 1: \n",
            "Accuracy:  0.8961267605633803\n",
            "SSE:  949391266.6407444\n",
            "\n",
            "Test 2: \n",
            "Accuracy:  0.9119718309859155\n",
            "SSE:  949279404.4161131\n",
            "\n",
            "Test 3: \n",
            "Accuracy:  0.9242957746478874\n",
            "SSE:  949268615.750155\n",
            "\n",
            "Test 4: \n",
            "Accuracy:  0.903169014084507\n",
            "SSE:  949183487.3352125\n",
            "\n"
          ]
        }
      ],
      "source": [
        "for i in range(5):\n",
        "    n_clusters = 2\n",
        "    num_features = X_scaled.shape[1]\n",
        "    random_centers = np.random.rand(n_clusters, num_features)\n",
        "    \n",
        "    kmeans = KMeansCluster(k=2, tol=0.5, max_iter=1000)\n",
        "    kmeans.fit(X_scaled, random_centers)\n",
        "\n",
        "    print(f\"Test {i}: \")\n",
        "    print(\"Accuracy: \", kmeans.accuracy(y_numpy))\n",
        "    print(\"SSE: \", kmeans.sse())\n",
        "    print(\"\")"
      ]
    },
    {
      "cell_type": "markdown",
      "metadata": {
        "id": "xspQhK17mu_p"
      },
      "source": [
        "# C."
      ]
    },
    {
      "cell_type": "code",
      "execution_count": 6,
      "metadata": {
        "colab": {
          "base_uri": "https://localhost:8080/"
        },
        "id": "f5AOwRtZmu_p",
        "outputId": "8a4b88d8-a1b9-4c68-dd85-f9d9c84f46c3"
      },
      "outputs": [
        {
          "data": {
            "text/plain": [
              "(2, 30)"
            ]
          },
          "execution_count": 6,
          "metadata": {},
          "output_type": "execute_result"
        }
      ],
      "source": [
        "init_centers = init_mu['mu_init'].T\n",
        "init_centers.shape"
      ]
    },
    {
      "cell_type": "code",
      "execution_count": 7,
      "metadata": {
        "colab": {
          "base_uri": "https://localhost:8080/"
        },
        "id": "vdgp-dhBmu_q",
        "outputId": "2828e783-2024-4155-c6c2-adde381ee34a"
      },
      "outputs": [
        {
          "name": "stdout",
          "output_type": "stream",
          "text": [
            "Accuracy:  0.5774647887323944\n",
            "SSE:  949913991.5424824\n",
            "\n"
          ]
        }
      ],
      "source": [
        "# max_iter is set to 1\n",
        "n_clusters = 2\n",
        "num_features = X_scaled.shape[1]\n",
        "\n",
        "kmeans_init_mu = KMeansCluster(k=2, tol=0.001, max_iter=1)\n",
        "kmeans_init_mu.fit(X_scaled, init_centers)\n",
        "\n",
        "print(\"Accuracy: \", kmeans_init_mu.accuracy(y_numpy))\n",
        "print(\"SSE: \", kmeans_init_mu.sse())\n",
        "print(\"\")"
      ]
    },
    {
      "cell_type": "code",
      "execution_count": 8,
      "metadata": {
        "colab": {
          "base_uri": "https://localhost:8080/"
        },
        "id": "ZLJMuU57mu_r",
        "outputId": "3a3be8be-af68-4613-ba69-68000a0792d2"
      },
      "outputs": [
        {
          "name": "stdout",
          "output_type": "stream",
          "text": [
            "Accuracy:  0.9066901408450704\n",
            "SSE:  949375956.5257089\n",
            "\n"
          ]
        }
      ],
      "source": [
        "n_clusters = 2\n",
        "num_features = X_scaled.shape[1]\n",
        "\n",
        "kmeans_init_mu = KMeansCluster(k=2, tol=0.001, max_iter=1000)\n",
        "kmeans_init_mu.fit(X_scaled, init_centers)\n",
        "\n",
        "print(\"Accuracy: \", kmeans_init_mu.accuracy(y_numpy))\n",
        "print(\"SSE: \", kmeans_init_mu.sse())\n",
        "print(\"\")"
      ]
    },
    {
      "cell_type": "markdown",
      "metadata": {
        "id": "UfVJibskmu_r"
      },
      "source": [
        "# D."
      ]
    },
    {
      "cell_type": "code",
      "execution_count": 9,
      "metadata": {
        "colab": {
          "base_uri": "https://localhost:8080/"
        },
        "id": "mhwQspBCmu_r",
        "outputId": "653651e9-6776-443c-9076-22f532d654ab"
      },
      "outputs": [
        {
          "data": {
            "text/plain": [
              "(2, 30)"
            ]
          },
          "execution_count": 9,
          "metadata": {},
          "output_type": "execute_result"
        }
      ],
      "source": [
        "true_centers = kmeans_init_mu.centers\n",
        "true_centers.shape"
      ]
    },
    {
      "cell_type": "code",
      "execution_count": 10,
      "metadata": {
        "colab": {
          "base_uri": "https://localhost:8080/"
        },
        "id": "WnfyumFxmu_s",
        "outputId": "76ddcd1d-5cd4-4656-db84-2f9d456a2b4d"
      },
      "outputs": [
        {
          "name": "stdout",
          "output_type": "stream",
          "text": [
            "Accuracy:  0.9066901408450704\n",
            "SSE:  949375956.5257089\n",
            "\n"
          ]
        }
      ],
      "source": [
        "kmeans_true_centers = KMeansCluster(k=2, tol=0.001, max_iter=1)\n",
        "kmeans_true_centers.fit(X_scaled, true_centers)\n",
        "\n",
        "print(\"Accuracy: \", kmeans_true_centers.accuracy(y_numpy))\n",
        "print(\"SSE: \", kmeans_true_centers.sse())\n",
        "print(\"\")"
      ]
    },
    {
      "cell_type": "code",
      "execution_count": 11,
      "metadata": {
        "colab": {
          "base_uri": "https://localhost:8080/"
        },
        "id": "sqRKeV5_Jkk_",
        "outputId": "19b2b35c-24e0-4238-ff4a-2e3c88e0db35"
      },
      "outputs": [
        {
          "name": "stdout",
          "output_type": "stream",
          "text": [
            "Accuracy:  0.9066901408450704\n",
            "SSE:  949375956.5257089\n",
            "\n"
          ]
        }
      ],
      "source": [
        "kmeans_true_centers = KMeansCluster(k=2, tol=0.001, max_iter=1000)\n",
        "kmeans_true_centers.fit(X_scaled, true_centers)\n",
        "\n",
        "print(\"Accuracy: \", kmeans_true_centers.accuracy(y_numpy))\n",
        "print(\"SSE: \", kmeans_true_centers.sse())\n",
        "print(\"\")"
      ]
    },
    {
      "cell_type": "markdown",
      "metadata": {
        "id": "rUZ1cglbmu_s"
      },
      "source": [
        "# E."
      ]
    },
    {
      "cell_type": "markdown",
      "metadata": {
        "id": "6C4e2k8Hmu_s"
      },
      "source": [
        "### Unsupervised"
      ]
    },
    {
      "cell_type": "code",
      "execution_count": 12,
      "metadata": {
        "colab": {
          "base_uri": "https://localhost:8080/"
        },
        "id": "NI8I96hqmu_t",
        "outputId": "6d36fca7-b287-4269-ee8f-c67171a51f74"
      },
      "outputs": [
        {
          "name": "stdout",
          "output_type": "stream",
          "text": [
            "Accuracy:  0.9014084507042254\n"
          ]
        }
      ],
      "source": [
        "cluster = AgglomerativeClustering()\n",
        "labels = cluster.fit_predict(X_scaled)\n",
        "print(\"Accuracy: \", 1 - accuracy_score(y, labels))"
      ]
    },
    {
      "cell_type": "markdown",
      "metadata": {
        "id": "zA0jQrxGmu_t"
      },
      "source": [
        "### Supervised"
      ]
    },
    {
      "cell_type": "code",
      "execution_count": 13,
      "metadata": {},
      "outputs": [
        {
          "name": "stdout",
          "output_type": "stream",
          "text": [
            "Accuracy:  0.9876760563380281\n"
          ]
        }
      ],
      "source": [
        "y_numpy = y_numpy.ravel() \n",
        "svm = SVC()\n",
        "\n",
        "labels = svm.fit(X_scaled, y_numpy).predict(X_scaled)\n",
        "print(\"Accuracy: \", accuracy_score(y_numpy, labels))"
      ]
    }
  ],
  "metadata": {
    "colab": {
      "provenance": []
    },
    "kernelspec": {
      "display_name": "Python 3",
      "language": "python",
      "name": "python3"
    },
    "language_info": {
      "codemirror_mode": {
        "name": "ipython",
        "version": 3
      },
      "file_extension": ".py",
      "mimetype": "text/x-python",
      "name": "python",
      "nbconvert_exporter": "python",
      "pygments_lexer": "ipython3",
      "version": "3.12.4"
    }
  },
  "nbformat": 4,
  "nbformat_minor": 0
}
