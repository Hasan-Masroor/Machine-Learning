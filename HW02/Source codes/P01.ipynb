{
 "cells": [
  {
   "cell_type": "markdown",
   "metadata": {},
   "source": [
    "# **Problem 1: Predicting House Price Using Stacked Regression**"
   ]
  },
  {
   "cell_type": "code",
   "execution_count": 1,
   "metadata": {
    "executionInfo": {
     "elapsed": 3,
     "status": "ok",
     "timestamp": 1698359943494,
     "user": {
      "displayName": "Alireza Delavari",
      "userId": "06699137348216229543"
     },
     "user_tz": -210
    },
    "id": "CWV7Qy7n4Gbe"
   },
   "outputs": [],
   "source": [
    "import warnings\n",
    "warnings.filterwarnings(\"ignore\")"
   ]
  },
  {
   "cell_type": "markdown",
   "metadata": {
    "id": "HqIJ_PZcxckO"
   },
   "source": [
    " **1. Load the dataset...**"
   ]
  },
  {
   "cell_type": "code",
   "execution_count": null,
   "metadata": {
    "colab": {
     "base_uri": "https://localhost:8080/"
    },
    "executionInfo": {
     "elapsed": 852,
     "status": "ok",
     "timestamp": 1698359945534,
     "user": {
      "displayName": "Alireza Delavari",
      "userId": "06699137348216229543"
     },
     "user_tz": -210
    },
    "id": "AHBDOhTaweZf",
    "outputId": "5aa27e87-5f44-4180-d62d-6d591299a77b"
   },
   "outputs": [
    {
     "data": {
      "text/html": [
       "<div>\n",
       "<style scoped>\n",
       "    .dataframe tbody tr th:only-of-type {\n",
       "        vertical-align: middle;\n",
       "    }\n",
       "\n",
       "    .dataframe tbody tr th {\n",
       "        vertical-align: top;\n",
       "    }\n",
       "\n",
       "    .dataframe thead th {\n",
       "        text-align: right;\n",
       "    }\n",
       "</style>\n",
       "<table border=\"1\" class=\"dataframe\">\n",
       "  <thead>\n",
       "    <tr style=\"text-align: right;\">\n",
       "      <th></th>\n",
       "      <th>Id</th>\n",
       "      <th>MSSubClass</th>\n",
       "      <th>MSZoning</th>\n",
       "      <th>LotFrontage</th>\n",
       "      <th>LotArea</th>\n",
       "      <th>Street</th>\n",
       "      <th>Alley</th>\n",
       "      <th>LotShape</th>\n",
       "      <th>LandContour</th>\n",
       "      <th>Utilities</th>\n",
       "      <th>...</th>\n",
       "      <th>PoolArea</th>\n",
       "      <th>PoolQC</th>\n",
       "      <th>Fence</th>\n",
       "      <th>MiscFeature</th>\n",
       "      <th>MiscVal</th>\n",
       "      <th>MoSold</th>\n",
       "      <th>YrSold</th>\n",
       "      <th>SaleType</th>\n",
       "      <th>SaleCondition</th>\n",
       "      <th>SalePrice</th>\n",
       "    </tr>\n",
       "  </thead>\n",
       "  <tbody>\n",
       "    <tr>\n",
       "      <th>0</th>\n",
       "      <td>1</td>\n",
       "      <td>60</td>\n",
       "      <td>RL</td>\n",
       "      <td>65.0</td>\n",
       "      <td>8450</td>\n",
       "      <td>Pave</td>\n",
       "      <td>NaN</td>\n",
       "      <td>Reg</td>\n",
       "      <td>Lvl</td>\n",
       "      <td>AllPub</td>\n",
       "      <td>...</td>\n",
       "      <td>0</td>\n",
       "      <td>NaN</td>\n",
       "      <td>NaN</td>\n",
       "      <td>NaN</td>\n",
       "      <td>0</td>\n",
       "      <td>2</td>\n",
       "      <td>2008</td>\n",
       "      <td>WD</td>\n",
       "      <td>Normal</td>\n",
       "      <td>208500</td>\n",
       "    </tr>\n",
       "    <tr>\n",
       "      <th>1</th>\n",
       "      <td>2</td>\n",
       "      <td>20</td>\n",
       "      <td>RL</td>\n",
       "      <td>80.0</td>\n",
       "      <td>9600</td>\n",
       "      <td>Pave</td>\n",
       "      <td>NaN</td>\n",
       "      <td>Reg</td>\n",
       "      <td>Lvl</td>\n",
       "      <td>AllPub</td>\n",
       "      <td>...</td>\n",
       "      <td>0</td>\n",
       "      <td>NaN</td>\n",
       "      <td>NaN</td>\n",
       "      <td>NaN</td>\n",
       "      <td>0</td>\n",
       "      <td>5</td>\n",
       "      <td>2007</td>\n",
       "      <td>WD</td>\n",
       "      <td>Normal</td>\n",
       "      <td>181500</td>\n",
       "    </tr>\n",
       "    <tr>\n",
       "      <th>2</th>\n",
       "      <td>3</td>\n",
       "      <td>60</td>\n",
       "      <td>RL</td>\n",
       "      <td>68.0</td>\n",
       "      <td>11250</td>\n",
       "      <td>Pave</td>\n",
       "      <td>NaN</td>\n",
       "      <td>IR1</td>\n",
       "      <td>Lvl</td>\n",
       "      <td>AllPub</td>\n",
       "      <td>...</td>\n",
       "      <td>0</td>\n",
       "      <td>NaN</td>\n",
       "      <td>NaN</td>\n",
       "      <td>NaN</td>\n",
       "      <td>0</td>\n",
       "      <td>9</td>\n",
       "      <td>2008</td>\n",
       "      <td>WD</td>\n",
       "      <td>Normal</td>\n",
       "      <td>223500</td>\n",
       "    </tr>\n",
       "    <tr>\n",
       "      <th>3</th>\n",
       "      <td>4</td>\n",
       "      <td>70</td>\n",
       "      <td>RL</td>\n",
       "      <td>60.0</td>\n",
       "      <td>9550</td>\n",
       "      <td>Pave</td>\n",
       "      <td>NaN</td>\n",
       "      <td>IR1</td>\n",
       "      <td>Lvl</td>\n",
       "      <td>AllPub</td>\n",
       "      <td>...</td>\n",
       "      <td>0</td>\n",
       "      <td>NaN</td>\n",
       "      <td>NaN</td>\n",
       "      <td>NaN</td>\n",
       "      <td>0</td>\n",
       "      <td>2</td>\n",
       "      <td>2006</td>\n",
       "      <td>WD</td>\n",
       "      <td>Abnorml</td>\n",
       "      <td>140000</td>\n",
       "    </tr>\n",
       "    <tr>\n",
       "      <th>4</th>\n",
       "      <td>5</td>\n",
       "      <td>60</td>\n",
       "      <td>RL</td>\n",
       "      <td>84.0</td>\n",
       "      <td>14260</td>\n",
       "      <td>Pave</td>\n",
       "      <td>NaN</td>\n",
       "      <td>IR1</td>\n",
       "      <td>Lvl</td>\n",
       "      <td>AllPub</td>\n",
       "      <td>...</td>\n",
       "      <td>0</td>\n",
       "      <td>NaN</td>\n",
       "      <td>NaN</td>\n",
       "      <td>NaN</td>\n",
       "      <td>0</td>\n",
       "      <td>12</td>\n",
       "      <td>2008</td>\n",
       "      <td>WD</td>\n",
       "      <td>Normal</td>\n",
       "      <td>250000</td>\n",
       "    </tr>\n",
       "  </tbody>\n",
       "</table>\n",
       "<p>5 rows × 81 columns</p>\n",
       "</div>"
      ],
      "text/plain": [
       "   Id  MSSubClass MSZoning  LotFrontage  LotArea Street Alley LotShape  \\\n",
       "0   1          60       RL         65.0     8450   Pave   NaN      Reg   \n",
       "1   2          20       RL         80.0     9600   Pave   NaN      Reg   \n",
       "2   3          60       RL         68.0    11250   Pave   NaN      IR1   \n",
       "3   4          70       RL         60.0     9550   Pave   NaN      IR1   \n",
       "4   5          60       RL         84.0    14260   Pave   NaN      IR1   \n",
       "\n",
       "  LandContour Utilities  ... PoolArea PoolQC Fence MiscFeature MiscVal MoSold  \\\n",
       "0         Lvl    AllPub  ...        0    NaN   NaN         NaN       0      2   \n",
       "1         Lvl    AllPub  ...        0    NaN   NaN         NaN       0      5   \n",
       "2         Lvl    AllPub  ...        0    NaN   NaN         NaN       0      9   \n",
       "3         Lvl    AllPub  ...        0    NaN   NaN         NaN       0      2   \n",
       "4         Lvl    AllPub  ...        0    NaN   NaN         NaN       0     12   \n",
       "\n",
       "  YrSold  SaleType  SaleCondition  SalePrice  \n",
       "0   2008        WD         Normal     208500  \n",
       "1   2007        WD         Normal     181500  \n",
       "2   2008        WD         Normal     223500  \n",
       "3   2006        WD        Abnorml     140000  \n",
       "4   2008        WD         Normal     250000  \n",
       "\n",
       "[5 rows x 81 columns]"
      ]
     },
     "execution_count": 2,
     "metadata": {},
     "output_type": "execute_result"
    }
   ],
   "source": [
    "import pandas as pd\n",
    "\n",
    "Train = pd.read_csv('train.csv')\n",
    "Test = pd.read_csv('test.csv')\n",
    "\n",
    "Train.head()"
   ]
  },
  {
   "cell_type": "markdown",
   "metadata": {
    "id": "TqIQVEDN_EWN"
   },
   "source": [
    "**2. Identify and remove outliers...**"
   ]
  },
  {
   "cell_type": "code",
   "execution_count": 3,
   "metadata": {
    "colab": {
     "base_uri": "https://localhost:8080/"
    },
    "executionInfo": {
     "elapsed": 4,
     "status": "ok",
     "timestamp": 1698359946817,
     "user": {
      "displayName": "Alireza Delavari",
      "userId": "06699137348216229543"
     },
     "user_tz": -210
    },
    "id": "rVRbuZHy2hGk",
    "outputId": "902288e2-8c50-4476-9ac0-78d8af239aa9"
   },
   "outputs": [
    {
     "name": "stdout",
     "output_type": "stream",
     "text": [
      "Original Training Dataset Shape: (1460, 81)\n",
      "Original Testing Dataset Shape: (1459, 81)\n"
     ]
    }
   ],
   "source": [
    "print(\"Original Training Dataset Shape:\", Train.shape)\n",
    "print(\"Original Testing Dataset Shape:\", Test.shape)"
   ]
  },
  {
   "cell_type": "code",
   "execution_count": 4,
   "metadata": {
    "colab": {
     "base_uri": "https://localhost:8080/"
    },
    "executionInfo": {
     "elapsed": 4,
     "status": "ok",
     "timestamp": 1698359947323,
     "user": {
      "displayName": "Alireza Delavari",
      "userId": "06699137348216229543"
     },
     "user_tz": -210
    },
    "id": "hwzp8LFi6c-I",
    "outputId": "0c225eb4-fd59-41c6-b784-45300f693a32"
   },
   "outputs": [
    {
     "data": {
      "text/plain": [
       "(2919, 81)"
      ]
     },
     "execution_count": 4,
     "metadata": {},
     "output_type": "execute_result"
    }
   ],
   "source": [
    "combined_df = pd.concat([Train, Test], axis=0, ignore_index=True)\n",
    "combined_df.shape\n"
   ]
  },
  {
   "cell_type": "code",
   "execution_count": 5,
   "metadata": {
    "colab": {
     "base_uri": "https://localhost:8080/"
    },
    "executionInfo": {
     "elapsed": 423,
     "status": "ok",
     "timestamp": 1698359948447,
     "user": {
      "displayName": "Alireza Delavari",
      "userId": "06699137348216229543"
     },
     "user_tz": -210
    },
    "id": "hvlMDLFU6zku",
    "outputId": "f682a9d8-6a5a-44a3-9215-f96cb7213d29"
   },
   "outputs": [
    {
     "name": "stdout",
     "output_type": "stream",
     "text": [
      "15707\n",
      "0\n"
     ]
    },
    {
     "data": {
      "text/plain": [
       "(2919, 47)"
      ]
     },
     "execution_count": 5,
     "metadata": {},
     "output_type": "execute_result"
    }
   ],
   "source": [
    "print(combined_df.isna().sum().sum())\n",
    "combined_df = combined_df.dropna(axis=1)\n",
    "print(combined_df.isna().sum().sum())\n",
    "combined_df.shape"
   ]
  },
  {
   "cell_type": "code",
   "execution_count": 9,
   "metadata": {
    "colab": {
     "base_uri": "https://localhost:8080/",
     "height": 1000
    },
    "executionInfo": {
     "elapsed": 11663,
     "status": "ok",
     "timestamp": 1698359960109,
     "user": {
      "displayName": "Alireza Delavari",
      "userId": "06699137348216229543"
     },
     "user_tz": -210
    },
    "id": "47AA0kAn4OgX",
    "outputId": "96ce7b7e-d5c7-4ae7-d23b-92f5fcc40b55"
   },
   "outputs": [
    {
     "data": {
      "image/png": "[encoded data removed]",
      "text/plain": [
       "<Figure size 1500x4000 with 27 Axes>"
      ]
     },
     "metadata": {},
     "output_type": "display_data"
    }
   ],
   "source": [
    "import matplotlib.pyplot as plt\n",
    "import seaborn as sns\n",
    "\n",
    "num_features = len(combined_df.select_dtypes(include=['float64', 'int64']).columns)\n",
    "\n",
    "num_cols = 3\n",
    "\n",
    "\n",
    "num_rows = num_features // num_cols\n",
    "num_rows += num_features % num_cols\n",
    "\n",
    "\n",
    "fig, axes = plt.subplots(num_rows, num_cols, figsize=(15, 40))\n",
    "fig.subplots_adjust(hspace=0.5)\n",
    "\n",
    "for i, feature in enumerate(combined_df.select_dtypes(include=['float64', 'int64']).columns):\n",
    "    row = i // num_cols\n",
    "    col = i % num_cols\n",
    "    ax = axes[row, col]\n",
    "    sns.boxplot(x=combined_df.select_dtypes(include=['float64', 'int64'])[feature], ax=ax)\n",
    "    ax.set_title(f'Box Plot of {feature}')\n",
    "    ax.set_xlabel(feature)\n",
    "\n",
    "\n",
    "for i in range(num_features, num_rows * num_cols):\n",
    "    fig.delaxes(axes.flatten()[i])\n",
    "\n",
    "plt.show()"
   ]
  },
  {
   "cell_type": "code",
   "execution_count": 10,
   "metadata": {
    "colab": {
     "base_uri": "https://localhost:8080/"
    },
    "executionInfo": {
     "elapsed": 14,
     "status": "ok",
     "timestamp": 1698359960110,
     "user": {
      "displayName": "Alireza Delavari",
      "userId": "06699137348216229543"
     },
     "user_tz": -210
    },
    "id": "-DuRsNc9xHeL",
    "outputId": "da614256-cb22-46ce-8cea-390c5d1cfb36"
   },
   "outputs": [
    {
     "name": "stdout",
     "output_type": "stream",
     "text": [
      "            Id  MSSubClass   LotArea  OverallQual  OverallCond  YearBuilt  \\\n",
      "0    -1.731458    0.067331 -0.217879     0.646183    -0.507284   1.046258   \n",
      "1    -1.730271   -0.873616 -0.072044    -0.063185     2.188279   0.154764   \n",
      "2    -1.729084    0.067331  0.137197     0.646183    -0.507284   0.980221   \n",
      "3    -1.727897    0.302568 -0.078385     0.646183    -0.507284  -1.859351   \n",
      "4    -1.726711    0.067331  0.518903     1.355551    -0.507284   0.947203   \n",
      "...        ...         ...       ...          ...          ...        ...   \n",
      "2914  1.726711    2.419700 -1.043937    -1.481920     1.289758  -0.043346   \n",
      "2915  1.727897    2.419700 -1.049263    -1.481920    -0.507284  -0.043346   \n",
      "2916  1.729084   -0.873616  1.246808    -0.772552     1.289758  -0.373528   \n",
      "2917  1.730271    0.655424  0.034605    -0.772552    -0.507284   0.683057   \n",
      "2918  1.731458    0.067331 -0.068620     0.646183    -0.507284   0.716075   \n",
      "\n",
      "      YearRemodAdd  1stFlrSF  2ndFlrSF  LowQualFinSF  ...  WoodDeckSF  \\\n",
      "0         0.896833 -0.773861  1.207379     -0.101197  ...   -0.740760   \n",
      "1        -0.395604  0.261075 -0.785025     -0.101197  ...    1.614879   \n",
      "2         0.848965 -0.610718  1.235375     -0.101197  ...   -0.740760   \n",
      "3        -0.682812 -0.506205  0.978742     -0.101197  ...   -0.740760   \n",
      "4         0.753229 -0.037170  1.671651     -0.101197  ...    0.776967   \n",
      "...            ...       ...       ...           ...  ...         ...   \n",
      "2914     -0.682812 -1.564083  0.488807     -0.101197  ...   -0.740760   \n",
      "2915     -0.682812 -1.564083  0.488807     -0.101197  ...   -0.740760   \n",
      "2916      0.561757  0.164209 -0.785025     -0.101197  ...    3.006130   \n",
      "2917      0.370284 -0.483263 -0.785025     -0.101197  ...   -0.108374   \n",
      "2918      0.466021 -0.416987  1.557332     -0.101197  ...    0.761158   \n",
      "\n",
      "      OpenPorchSF  EnclosedPorch  3SsnPorch  ScreenPorch  PoolArea   MiscVal  \\\n",
      "0        0.200006      -0.359601  -0.103331    -0.285935  -0.06315 -0.089592   \n",
      "1       -0.702843      -0.359601  -0.103331    -0.285935  -0.06315 -0.089592   \n",
      "2       -0.081209      -0.359601  -0.103331    -0.285935  -0.06315 -0.089592   \n",
      "3       -0.184815       3.874967  -0.103331    -0.285935  -0.06315 -0.089592   \n",
      "4        0.540424      -0.359601  -0.103331    -0.285935  -0.06315 -0.089592   \n",
      "...           ...            ...        ...          ...       ...       ...   \n",
      "2914    -0.702843      -0.359601  -0.103331    -0.285935  -0.06315 -0.089592   \n",
      "2915    -0.347624      -0.359601  -0.103331    -0.285935  -0.06315 -0.089592   \n",
      "2916    -0.702843      -0.359601  -0.103331    -0.285935  -0.06315 -0.089592   \n",
      "2917    -0.229217      -0.359601  -0.103331    -0.285935  -0.06315  1.144312   \n",
      "2918     0.007596      -0.359601  -0.103331    -0.285935  -0.06315 -0.089592   \n",
      "\n",
      "        MoSold    YrSold  SalePrice  \n",
      "0    -1.552184  0.157646   0.495839  \n",
      "1    -0.446925 -0.602962   0.025224  \n",
      "2     1.026753  0.157646   0.757292  \n",
      "3    -1.552184 -1.363569  -0.698129  \n",
      "4     2.132012  0.157646   1.219192  \n",
      "...        ...       ...        ...  \n",
      "2914 -0.078505 -1.363569  -0.226098  \n",
      "2915 -0.815344 -1.363569  -0.266056  \n",
      "2916  1.026753 -1.363569   0.682733  \n",
      "2917  0.289914 -1.363569   0.084910  \n",
      "2918  1.763592 -1.363569   0.134021  \n",
      "\n",
      "[2919 rows x 27 columns]\n"
     ]
    }
   ],
   "source": [
    "from scipy.stats import zscore\n",
    "\n",
    "\n",
    "\n",
    "z_scores = zscore(combined_df.select_dtypes(include=['float64', 'int64']))\n",
    "\n",
    "# typically |z| > 3 is considered an outlier\n",
    "threshold = 3\n",
    "\n",
    "# Identify and remove outliers based on the z-score\n",
    "combined_df_no_outliers = combined_df[(z_scores < threshold).all(axis=1)]\n",
    "\n",
    "# back into train and test datasets\n",
    "Train_no_outliers = combined_df_no_outliers.iloc[:len(Train)]\n",
    "Test_no_outliers = combined_df_no_outliers.iloc[len(Train):]\n",
    "\n",
    "\n",
    "print(z_scores)"
   ]
  },
  {
   "cell_type": "code",
   "execution_count": 11,
   "metadata": {
    "colab": {
     "base_uri": "https://localhost:8080/"
    },
    "executionInfo": {
     "elapsed": 11,
     "status": "ok",
     "timestamp": 1698359960110,
     "user": {
      "displayName": "Alireza Delavari",
      "userId": "06699137348216229543"
     },
     "user_tz": -210
    },
    "id": "QRvjRxqGzhGg",
    "outputId": "f3355392-ca80-4a66-bc9e-44868e789f21"
   },
   "outputs": [
    {
     "name": "stdout",
     "output_type": "stream",
     "text": [
      "Training Dataset Shape After Removing Outliers: (1460, 47)\n",
      "Testing Dataset Shape After Removing Outliers: (840, 47)\n"
     ]
    },
    {
     "data": {
      "text/plain": [
       "(2300, 47)"
      ]
     },
     "execution_count": 11,
     "metadata": {},
     "output_type": "execute_result"
    }
   ],
   "source": [
    "print(\"Training Dataset Shape After Removing Outliers:\", Train_no_outliers.shape)\n",
    "print(\"Testing Dataset Shape After Removing Outliers:\", Test_no_outliers.shape)\n",
    "combined_df_no_outliers.shape"
   ]
  },
  {
   "cell_type": "code",
   "execution_count": 12,
   "metadata": {
    "executionInfo": {
     "elapsed": 8,
     "status": "ok",
     "timestamp": 1698359960110,
     "user": {
      "displayName": "Alireza Delavari",
      "userId": "06699137348216229543"
     },
     "user_tz": -210
    },
    "id": "cvemLdZH2z-x"
   },
   "outputs": [],
   "source": [
    "test = Test_no_outliers\n",
    "train = Train_no_outliers"
   ]
  },
  {
   "cell_type": "markdown",
   "metadata": {
    "id": "TYM1Hqvh-2MW"
   },
   "source": [
    "**3. Normalize the target column...**"
   ]
  },
  {
   "cell_type": "code",
   "execution_count": 13,
   "metadata": {
    "colab": {
     "base_uri": "https://localhost:8080/",
     "height": 573
    },
    "executionInfo": {
     "elapsed": 7,
     "status": "ok",
     "timestamp": 1698359960110,
     "user": {
      "displayName": "Alireza Delavari",
      "userId": "06699137348216229543"
     },
     "user_tz": -210
    },
    "id": "8KuDa5ii31eT",
    "outputId": "853122f5-7f53-43d0-a592-20b2e5a88ed3"
   },
   "outputs": [
    {
     "data": {
      "image/png": "[encoded data removed]",
      "text/plain": [
       "<Figure size 800x600 with 1 Axes>"
      ]
     },
     "metadata": {},
     "output_type": "display_data"
    }
   ],
   "source": [
    "import matplotlib.pyplot as plt\n",
    "import seaborn as sns\n",
    "\n",
    "# Set the style of seaborn plots\n",
    "sns.set(style=\"whitegrid\")\n",
    "\n",
    "\n",
    "plt.figure(figsize=(8, 6))\n",
    "sns.kdeplot(combined_df['SalePrice'], color='skyblue', shade=True)\n",
    "plt.title('Distribution of (KDE)')\n",
    "plt.xlabel('SalePrice')\n",
    "plt.ylabel('Density')\n",
    "plt.show()"
   ]
  },
  {
   "cell_type": "code",
   "execution_count": 14,
   "metadata": {
    "colab": {
     "base_uri": "https://localhost:8080/",
     "height": 573
    },
    "executionInfo": {
     "elapsed": 2185,
     "status": "ok",
     "timestamp": 1698359962289,
     "user": {
      "displayName": "Alireza Delavari",
      "userId": "06699137348216229543"
     },
     "user_tz": -210
    },
    "id": "i8I59UJ59gBJ",
    "outputId": "036478b1-a3e4-48a2-ecad-d3af436dbf3d"
   },
   "outputs": [
    {
     "data": {
      "image/png": "[encoded data removed]",
      "text/plain": [
       "<Figure size 1200x600 with 2 Axes>"
      ]
     },
     "metadata": {},
     "output_type": "display_data"
    }
   ],
   "source": [
    "import numpy as np\n",
    "\n",
    "# Apply logarithmic transformation to the target column (for example, 'SalePrice')\n",
    "train['SalePrice'] = np.log1p(train['SalePrice'])\n",
    "\n",
    "# Check the distribution after the transformation\n",
    "import matplotlib.pyplot as plt\n",
    "import seaborn as sns\n",
    "\n",
    "# Plot the original and transformed distributions\n",
    "plt.figure(figsize=(12, 6))\n",
    "plt.subplot(1, 2, 1)\n",
    "sns.histplot(train['SalePrice'], kde=True)\n",
    "plt.title('Original Distribution')\n",
    "\n",
    "plt.subplot(1, 2, 2)\n",
    "sns.histplot(np.log1p(train['SalePrice']), kde=True)\n",
    "plt.title('Transformed Distribution')\n",
    "\n",
    "plt.show()"
   ]
  },
  {
   "cell_type": "markdown",
   "metadata": {
    "id": "yIXI2tL4ARX4"
   },
   "source": [
    "**4. Preprocess the dataset...**"
   ]
  },
  {
   "cell_type": "code",
   "execution_count": 15,
   "metadata": {
    "executionInfo": {
     "elapsed": 8,
     "status": "ok",
     "timestamp": 1698359962290,
     "user": {
      "displayName": "Alireza Delavari",
      "userId": "06699137348216229543"
     },
     "user_tz": -210
    },
    "id": "oOURDSERC_2A"
   },
   "outputs": [],
   "source": [
    "tmp_combine = pd.concat([train, test], axis=0, ignore_index=True)"
   ]
  },
  {
   "cell_type": "code",
   "execution_count": 16,
   "metadata": {
    "colab": {
     "base_uri": "https://localhost:8080/"
    },
    "executionInfo": {
     "elapsed": 7,
     "status": "ok",
     "timestamp": 1698359962290,
     "user": {
      "displayName": "Alireza Delavari",
      "userId": "06699137348216229543"
     },
     "user_tz": -210
    },
    "id": "lzPpkWON9k1m",
    "outputId": "dbbcf95d-1beb-4d92-dc3e-cc2cdb9f1b71"
   },
   "outputs": [
    {
     "name": "stdout",
     "output_type": "stream",
     "text": [
      "2300\n",
      "14\n",
      "1584\n",
      "2\n",
      "4\n",
      "4\n",
      "5\n",
      "3\n",
      "25\n",
      "9\n",
      "6\n",
      "5\n",
      "7\n",
      "10\n",
      "8\n",
      "108\n",
      "61\n",
      "6\n",
      "4\n",
      "4\n",
      "5\n",
      "6\n",
      "5\n",
      "5\n",
      "2\n",
      "942\n",
      "519\n",
      "4\n",
      "1086\n",
      "4\n",
      "2\n",
      "6\n",
      "2\n",
      "10\n",
      "3\n",
      "3\n",
      "311\n",
      "195\n",
      "115\n",
      "2\n",
      "65\n",
      "1\n",
      "22\n",
      "12\n",
      "5\n",
      "6\n",
      "1699\n",
      "Categorical Features: ['MSSubClass', 'Street', 'LotShape', 'LandContour', 'LotConfig', 'LandSlope', 'Condition1', 'Condition2', 'BldgType', 'HouseStyle', 'OverallQual', 'OverallCond', 'RoofStyle', 'RoofMatl', 'ExterQual', 'ExterCond', 'Foundation', 'Heating', 'HeatingQC', 'CentralAir', 'LowQualFinSF', 'FullBath', 'HalfBath', 'BedroomAbvGr', 'KitchenAbvGr', 'TotRmsAbvGrd', 'Fireplaces', 'PavedDrive', '3SsnPorch', 'PoolArea', 'MoSold', 'YrSold', 'SaleCondition']\n",
      "Numerical Features: ['Id', 'LotArea', 'Neighborhood', 'YearBuilt', 'YearRemodAdd', '1stFlrSF', '2ndFlrSF', 'GrLivArea', 'WoodDeckSF', 'OpenPorchSF', 'EnclosedPorch', 'ScreenPorch', 'MiscVal', 'SalePrice']\n"
     ]
    }
   ],
   "source": [
    "categorical_features = []\n",
    "numerical_features = []\n",
    "\n",
    "for column in tmp_combine.columns:\n",
    "\n",
    "    unique_values = tmp_combine[column].nunique()\n",
    "    print(unique_values)\n",
    "    if unique_values <= 18:\n",
    "        categorical_features.append(column)\n",
    "    else:\n",
    "        numerical_features.append(column)\n",
    "\n",
    "print(\"Categorical Features:\", categorical_features)\n",
    "print(\"Numerical Features:\", numerical_features)"
   ]
  },
  {
   "cell_type": "markdown",
   "metadata": {
    "id": "qmU92KROBVFg"
   },
   "source": [
    "### **ONE HOT ENCODING**"
   ]
  },
  {
   "cell_type": "code",
   "execution_count": 17,
   "metadata": {
    "executionInfo": {
     "elapsed": 6,
     "status": "ok",
     "timestamp": 1698359962290,
     "user": {
      "displayName": "Alireza Delavari",
      "userId": "06699137348216229543"
     },
     "user_tz": -210
    },
    "id": "zX-g7fDuCfsD"
   },
   "outputs": [],
   "source": [
    "\n",
    "tmp_combine = pd.get_dummies(tmp_combine, columns=categorical_features, drop_first=True)\n"
   ]
  },
  {
   "cell_type": "code",
   "execution_count": 18,
   "metadata": {
    "colab": {
     "base_uri": "https://localhost:8080/",
     "height": 443
    },
    "executionInfo": {
     "elapsed": 415,
     "status": "ok",
     "timestamp": 1698360113421,
     "user": {
      "displayName": "Alireza Delavari",
      "userId": "06699137348216229543"
     },
     "user_tz": -210
    },
    "id": "VHEOgJ8aI20P",
    "outputId": "fea9be92-6544-4d5d-b7de-49600bc646fa"
   },
   "outputs": [
    {
     "data": {
      "text/html": [
       "<div>\n",
       "<style scoped>\n",
       "    .dataframe tbody tr th:only-of-type {\n",
       "        vertical-align: middle;\n",
       "    }\n",
       "\n",
       "    .dataframe tbody tr th {\n",
       "        vertical-align: top;\n",
       "    }\n",
       "\n",
       "    .dataframe thead th {\n",
       "        text-align: right;\n",
       "    }\n",
       "</style>\n",
       "<table border=\"1\" class=\"dataframe\">\n",
       "  <thead>\n",
       "    <tr style=\"text-align: right;\">\n",
       "      <th></th>\n",
       "      <th>LotArea</th>\n",
       "      <th>YearBuilt</th>\n",
       "      <th>YearRemodAdd</th>\n",
       "      <th>1stFlrSF</th>\n",
       "      <th>2ndFlrSF</th>\n",
       "      <th>GrLivArea</th>\n",
       "      <th>WoodDeckSF</th>\n",
       "      <th>OpenPorchSF</th>\n",
       "      <th>EnclosedPorch</th>\n",
       "      <th>ScreenPorch</th>\n",
       "      <th>...</th>\n",
       "      <th>MoSold_12</th>\n",
       "      <th>YrSold_2007</th>\n",
       "      <th>YrSold_2008</th>\n",
       "      <th>YrSold_2009</th>\n",
       "      <th>YrSold_2010</th>\n",
       "      <th>SaleCondition_AdjLand</th>\n",
       "      <th>SaleCondition_Alloca</th>\n",
       "      <th>SaleCondition_Family</th>\n",
       "      <th>SaleCondition_Normal</th>\n",
       "      <th>SaleCondition_Partial</th>\n",
       "    </tr>\n",
       "  </thead>\n",
       "  <tbody>\n",
       "    <tr>\n",
       "      <th>0</th>\n",
       "      <td>8450</td>\n",
       "      <td>2003</td>\n",
       "      <td>2003</td>\n",
       "      <td>856</td>\n",
       "      <td>854</td>\n",
       "      <td>1710</td>\n",
       "      <td>0</td>\n",
       "      <td>61</td>\n",
       "      <td>0</td>\n",
       "      <td>0</td>\n",
       "      <td>...</td>\n",
       "      <td>False</td>\n",
       "      <td>False</td>\n",
       "      <td>True</td>\n",
       "      <td>False</td>\n",
       "      <td>False</td>\n",
       "      <td>False</td>\n",
       "      <td>False</td>\n",
       "      <td>False</td>\n",
       "      <td>True</td>\n",
       "      <td>False</td>\n",
       "    </tr>\n",
       "    <tr>\n",
       "      <th>1</th>\n",
       "      <td>9600</td>\n",
       "      <td>1976</td>\n",
       "      <td>1976</td>\n",
       "      <td>1262</td>\n",
       "      <td>0</td>\n",
       "      <td>1262</td>\n",
       "      <td>298</td>\n",
       "      <td>0</td>\n",
       "      <td>0</td>\n",
       "      <td>0</td>\n",
       "      <td>...</td>\n",
       "      <td>False</td>\n",
       "      <td>True</td>\n",
       "      <td>False</td>\n",
       "      <td>False</td>\n",
       "      <td>False</td>\n",
       "      <td>False</td>\n",
       "      <td>False</td>\n",
       "      <td>False</td>\n",
       "      <td>True</td>\n",
       "      <td>False</td>\n",
       "    </tr>\n",
       "    <tr>\n",
       "      <th>2</th>\n",
       "      <td>11250</td>\n",
       "      <td>2001</td>\n",
       "      <td>2002</td>\n",
       "      <td>920</td>\n",
       "      <td>866</td>\n",
       "      <td>1786</td>\n",
       "      <td>0</td>\n",
       "      <td>42</td>\n",
       "      <td>0</td>\n",
       "      <td>0</td>\n",
       "      <td>...</td>\n",
       "      <td>False</td>\n",
       "      <td>False</td>\n",
       "      <td>True</td>\n",
       "      <td>False</td>\n",
       "      <td>False</td>\n",
       "      <td>False</td>\n",
       "      <td>False</td>\n",
       "      <td>False</td>\n",
       "      <td>True</td>\n",
       "      <td>False</td>\n",
       "    </tr>\n",
       "    <tr>\n",
       "      <th>3</th>\n",
       "      <td>14260</td>\n",
       "      <td>2000</td>\n",
       "      <td>2000</td>\n",
       "      <td>1145</td>\n",
       "      <td>1053</td>\n",
       "      <td>2198</td>\n",
       "      <td>192</td>\n",
       "      <td>84</td>\n",
       "      <td>0</td>\n",
       "      <td>0</td>\n",
       "      <td>...</td>\n",
       "      <td>True</td>\n",
       "      <td>False</td>\n",
       "      <td>True</td>\n",
       "      <td>False</td>\n",
       "      <td>False</td>\n",
       "      <td>False</td>\n",
       "      <td>False</td>\n",
       "      <td>False</td>\n",
       "      <td>True</td>\n",
       "      <td>False</td>\n",
       "    </tr>\n",
       "    <tr>\n",
       "      <th>4</th>\n",
       "      <td>10084</td>\n",
       "      <td>2004</td>\n",
       "      <td>2005</td>\n",
       "      <td>1694</td>\n",
       "      <td>0</td>\n",
       "      <td>1694</td>\n",
       "      <td>255</td>\n",
       "      <td>57</td>\n",
       "      <td>0</td>\n",
       "      <td>0</td>\n",
       "      <td>...</td>\n",
       "      <td>False</td>\n",
       "      <td>True</td>\n",
       "      <td>False</td>\n",
       "      <td>False</td>\n",
       "      <td>False</td>\n",
       "      <td>False</td>\n",
       "      <td>False</td>\n",
       "      <td>False</td>\n",
       "      <td>True</td>\n",
       "      <td>False</td>\n",
       "    </tr>\n",
       "    <tr>\n",
       "      <th>...</th>\n",
       "      <td>...</td>\n",
       "      <td>...</td>\n",
       "      <td>...</td>\n",
       "      <td>...</td>\n",
       "      <td>...</td>\n",
       "      <td>...</td>\n",
       "      <td>...</td>\n",
       "      <td>...</td>\n",
       "      <td>...</td>\n",
       "      <td>...</td>\n",
       "      <td>...</td>\n",
       "      <td>...</td>\n",
       "      <td>...</td>\n",
       "      <td>...</td>\n",
       "      <td>...</td>\n",
       "      <td>...</td>\n",
       "      <td>...</td>\n",
       "      <td>...</td>\n",
       "      <td>...</td>\n",
       "      <td>...</td>\n",
       "      <td>...</td>\n",
       "    </tr>\n",
       "    <tr>\n",
       "      <th>2295</th>\n",
       "      <td>1526</td>\n",
       "      <td>1970</td>\n",
       "      <td>1970</td>\n",
       "      <td>546</td>\n",
       "      <td>546</td>\n",
       "      <td>1092</td>\n",
       "      <td>0</td>\n",
       "      <td>34</td>\n",
       "      <td>0</td>\n",
       "      <td>0</td>\n",
       "      <td>...</td>\n",
       "      <td>False</td>\n",
       "      <td>False</td>\n",
       "      <td>False</td>\n",
       "      <td>False</td>\n",
       "      <td>False</td>\n",
       "      <td>False</td>\n",
       "      <td>False</td>\n",
       "      <td>False</td>\n",
       "      <td>True</td>\n",
       "      <td>False</td>\n",
       "    </tr>\n",
       "    <tr>\n",
       "      <th>2296</th>\n",
       "      <td>1936</td>\n",
       "      <td>1970</td>\n",
       "      <td>1970</td>\n",
       "      <td>546</td>\n",
       "      <td>546</td>\n",
       "      <td>1092</td>\n",
       "      <td>0</td>\n",
       "      <td>0</td>\n",
       "      <td>0</td>\n",
       "      <td>0</td>\n",
       "      <td>...</td>\n",
       "      <td>False</td>\n",
       "      <td>False</td>\n",
       "      <td>False</td>\n",
       "      <td>False</td>\n",
       "      <td>False</td>\n",
       "      <td>False</td>\n",
       "      <td>False</td>\n",
       "      <td>False</td>\n",
       "      <td>True</td>\n",
       "      <td>False</td>\n",
       "    </tr>\n",
       "    <tr>\n",
       "      <th>2297</th>\n",
       "      <td>1894</td>\n",
       "      <td>1970</td>\n",
       "      <td>1970</td>\n",
       "      <td>546</td>\n",
       "      <td>546</td>\n",
       "      <td>1092</td>\n",
       "      <td>0</td>\n",
       "      <td>24</td>\n",
       "      <td>0</td>\n",
       "      <td>0</td>\n",
       "      <td>...</td>\n",
       "      <td>False</td>\n",
       "      <td>False</td>\n",
       "      <td>False</td>\n",
       "      <td>False</td>\n",
       "      <td>False</td>\n",
       "      <td>False</td>\n",
       "      <td>False</td>\n",
       "      <td>False</td>\n",
       "      <td>False</td>\n",
       "      <td>False</td>\n",
       "    </tr>\n",
       "    <tr>\n",
       "      <th>2298</th>\n",
       "      <td>10441</td>\n",
       "      <td>1992</td>\n",
       "      <td>1992</td>\n",
       "      <td>970</td>\n",
       "      <td>0</td>\n",
       "      <td>970</td>\n",
       "      <td>80</td>\n",
       "      <td>32</td>\n",
       "      <td>0</td>\n",
       "      <td>0</td>\n",
       "      <td>...</td>\n",
       "      <td>False</td>\n",
       "      <td>False</td>\n",
       "      <td>False</td>\n",
       "      <td>False</td>\n",
       "      <td>False</td>\n",
       "      <td>False</td>\n",
       "      <td>False</td>\n",
       "      <td>False</td>\n",
       "      <td>True</td>\n",
       "      <td>False</td>\n",
       "    </tr>\n",
       "    <tr>\n",
       "      <th>2299</th>\n",
       "      <td>9627</td>\n",
       "      <td>1993</td>\n",
       "      <td>1994</td>\n",
       "      <td>996</td>\n",
       "      <td>1004</td>\n",
       "      <td>2000</td>\n",
       "      <td>190</td>\n",
       "      <td>48</td>\n",
       "      <td>0</td>\n",
       "      <td>0</td>\n",
       "      <td>...</td>\n",
       "      <td>False</td>\n",
       "      <td>False</td>\n",
       "      <td>False</td>\n",
       "      <td>False</td>\n",
       "      <td>False</td>\n",
       "      <td>False</td>\n",
       "      <td>False</td>\n",
       "      <td>False</td>\n",
       "      <td>True</td>\n",
       "      <td>False</td>\n",
       "    </tr>\n",
       "  </tbody>\n",
       "</table>\n",
       "<p>2300 rows × 153 columns</p>\n",
       "</div>"
      ],
      "text/plain": [
       "      LotArea  YearBuilt  YearRemodAdd  1stFlrSF  2ndFlrSF  GrLivArea  \\\n",
       "0        8450       2003          2003       856       854       1710   \n",
       "1        9600       1976          1976      1262         0       1262   \n",
       "2       11250       2001          2002       920       866       1786   \n",
       "3       14260       2000          2000      1145      1053       2198   \n",
       "4       10084       2004          2005      1694         0       1694   \n",
       "...       ...        ...           ...       ...       ...        ...   \n",
       "2295     1526       1970          1970       546       546       1092   \n",
       "2296     1936       1970          1970       546       546       1092   \n",
       "2297     1894       1970          1970       546       546       1092   \n",
       "2298    10441       1992          1992       970         0        970   \n",
       "2299     9627       1993          1994       996      1004       2000   \n",
       "\n",
       "      WoodDeckSF  OpenPorchSF  EnclosedPorch  ScreenPorch  ...  MoSold_12  \\\n",
       "0              0           61              0            0  ...      False   \n",
       "1            298            0              0            0  ...      False   \n",
       "2              0           42              0            0  ...      False   \n",
       "3            192           84              0            0  ...       True   \n",
       "4            255           57              0            0  ...      False   \n",
       "...          ...          ...            ...          ...  ...        ...   \n",
       "2295           0           34              0            0  ...      False   \n",
       "2296           0            0              0            0  ...      False   \n",
       "2297           0           24              0            0  ...      False   \n",
       "2298          80           32              0            0  ...      False   \n",
       "2299         190           48              0            0  ...      False   \n",
       "\n",
       "      YrSold_2007  YrSold_2008  YrSold_2009  YrSold_2010  \\\n",
       "0           False         True        False        False   \n",
       "1            True        False        False        False   \n",
       "2           False         True        False        False   \n",
       "3           False         True        False        False   \n",
       "4            True        False        False        False   \n",
       "...           ...          ...          ...          ...   \n",
       "2295        False        False        False        False   \n",
       "2296        False        False        False        False   \n",
       "2297        False        False        False        False   \n",
       "2298        False        False        False        False   \n",
       "2299        False        False        False        False   \n",
       "\n",
       "      SaleCondition_AdjLand  SaleCondition_Alloca  SaleCondition_Family  \\\n",
       "0                     False                 False                 False   \n",
       "1                     False                 False                 False   \n",
       "2                     False                 False                 False   \n",
       "3                     False                 False                 False   \n",
       "4                     False                 False                 False   \n",
       "...                     ...                   ...                   ...   \n",
       "2295                  False                 False                 False   \n",
       "2296                  False                 False                 False   \n",
       "2297                  False                 False                 False   \n",
       "2298                  False                 False                 False   \n",
       "2299                  False                 False                 False   \n",
       "\n",
       "      SaleCondition_Normal  SaleCondition_Partial  \n",
       "0                     True                  False  \n",
       "1                     True                  False  \n",
       "2                     True                  False  \n",
       "3                     True                  False  \n",
       "4                     True                  False  \n",
       "...                    ...                    ...  \n",
       "2295                  True                  False  \n",
       "2296                  True                  False  \n",
       "2297                 False                  False  \n",
       "2298                  True                  False  \n",
       "2299                  True                  False  \n",
       "\n",
       "[2300 rows x 153 columns]"
      ]
     },
     "execution_count": 18,
     "metadata": {},
     "output_type": "execute_result"
    }
   ],
   "source": [
    "tmp_combine = tmp_combine.drop(\"Neighborhood\", axis=1) # categorical with too much variety\n",
    "tmp_combine = tmp_combine.drop(\"Id\", axis=1) # no meaning\n",
    "tmp_combine"
   ]
  },
  {
   "cell_type": "code",
   "execution_count": 19,
   "metadata": {
    "colab": {
     "base_uri": "https://localhost:8080/"
    },
    "executionInfo": {
     "elapsed": 349,
     "status": "ok",
     "timestamp": 1698360152931,
     "user": {
      "displayName": "Alireza Delavari",
      "userId": "06699137348216229543"
     },
     "user_tz": -210
    },
    "id": "qP8PBkZdHhbX",
    "outputId": "0789cff0-35ea-4c3d-e755-2cff8d8927a9"
   },
   "outputs": [
    {
     "data": {
      "text/plain": [
       "['LotArea',\n",
       " 'YearBuilt',\n",
       " 'YearRemodAdd',\n",
       " '1stFlrSF',\n",
       " '2ndFlrSF',\n",
       " 'GrLivArea',\n",
       " 'WoodDeckSF',\n",
       " 'OpenPorchSF',\n",
       " 'EnclosedPorch',\n",
       " 'ScreenPorch',\n",
       " 'MiscVal',\n",
       " 'SalePrice']"
      ]
     },
     "execution_count": 19,
     "metadata": {},
     "output_type": "execute_result"
    }
   ],
   "source": [
    "numerical_features.remove(\"Neighborhood\")\n",
    "numerical_features.remove(\"Id\")\n",
    "numerical_features"
   ]
  },
  {
   "cell_type": "code",
   "execution_count": 20,
   "metadata": {
    "executionInfo": {
     "elapsed": 314,
     "status": "ok",
     "timestamp": 1698360156627,
     "user": {
      "displayName": "Alireza Delavari",
      "userId": "06699137348216229543"
     },
     "user_tz": -210
    },
    "id": "IB_14eeVDryR"
   },
   "outputs": [],
   "source": [
    "train = tmp_combine.iloc[:len(train)]\n",
    "test = tmp_combine.iloc[len(train):]"
   ]
  },
  {
   "cell_type": "markdown",
   "metadata": {
    "id": "ZWOPOjV4BhJO"
   },
   "source": [
    "### **Feature Scaling**"
   ]
  },
  {
   "cell_type": "code",
   "execution_count": 21,
   "metadata": {
    "executionInfo": {
     "elapsed": 339,
     "status": "ok",
     "timestamp": 1698360158839,
     "user": {
      "displayName": "Alireza Delavari",
      "userId": "06699137348216229543"
     },
     "user_tz": -210
    },
    "id": "Kpw1R-_yBczt"
   },
   "outputs": [],
   "source": [
    "from sklearn.preprocessing import StandardScaler\n",
    "\n",
    "scaler = StandardScaler()\n",
    "train[numerical_features] = scaler.fit_transform(train[numerical_features])\n",
    "test[numerical_features] = scaler.transform(test[numerical_features])"
   ]
  },
  {
   "cell_type": "markdown",
   "metadata": {
    "id": "4HZPrimCFXXf"
   },
   "source": [
    "**5. Train models...**"
   ]
  },
  {
   "cell_type": "code",
   "execution_count": 22,
   "metadata": {
    "executionInfo": {
     "elapsed": 308,
     "status": "ok",
     "timestamp": 1698360164550,
     "user": {
      "displayName": "Alireza Delavari",
      "userId": "06699137348216229543"
     },
     "user_tz": -210
    },
    "id": "JAuhf6ZwC6jg"
   },
   "outputs": [],
   "source": [
    "from sklearn.model_selection import GridSearchCV\n",
    "from sklearn.linear_model import Lasso, ElasticNet\n",
    "from sklearn.kernel_ridge import KernelRidge\n",
    "from sklearn.ensemble import GradientBoostingRegressor\n"
   ]
  },
  {
   "cell_type": "code",
   "execution_count": 23,
   "metadata": {
    "executionInfo": {
     "elapsed": 3,
     "status": "ok",
     "timestamp": 1698360165657,
     "user": {
      "displayName": "Alireza Delavari",
      "userId": "06699137348216229543"
     },
     "user_tz": -210
    },
    "id": "wrkj_lzcFoRt"
   },
   "outputs": [],
   "source": [
    "X_train = train.copy()\n",
    "y_train = X_train.pop(\"SalePrice\")\n",
    "\n",
    "X_test = test.copy()\n",
    "y_test = X_test.pop(\"SalePrice\")"
   ]
  },
  {
   "cell_type": "code",
   "execution_count": 24,
   "metadata": {
    "colab": {
     "base_uri": "https://localhost:8080/"
    },
    "executionInfo": {
     "elapsed": 299,
     "status": "ok",
     "timestamp": 1698360167755,
     "user": {
      "displayName": "Alireza Delavari",
      "userId": "06699137348216229543"
     },
     "user_tz": -210
    },
    "id": "IUMpOSQTGoRV",
    "outputId": "594baa03-6290-411c-9035-0e739fcdbd61"
   },
   "outputs": [
    {
     "data": {
      "text/plain": [
       "(1460, 152)"
      ]
     },
     "execution_count": 24,
     "metadata": {},
     "output_type": "execute_result"
    }
   ],
   "source": [
    "X_train.shape"
   ]
  },
  {
   "cell_type": "code",
   "execution_count": 25,
   "metadata": {
    "colab": {
     "base_uri": "https://localhost:8080/"
    },
    "executionInfo": {
     "elapsed": 4,
     "status": "ok",
     "timestamp": 1698360168807,
     "user": {
      "displayName": "Alireza Delavari",
      "userId": "06699137348216229543"
     },
     "user_tz": -210
    },
    "id": "zEkYDs5XGqmR",
    "outputId": "20ff7d57-b392-4cb6-ade0-8e8f6b823235"
   },
   "outputs": [
    {
     "data": {
      "text/plain": [
       "(1460,)"
      ]
     },
     "execution_count": 25,
     "metadata": {},
     "output_type": "execute_result"
    }
   ],
   "source": [
    "y_train.shape"
   ]
  },
  {
   "cell_type": "code",
   "execution_count": 26,
   "metadata": {
    "colab": {
     "base_uri": "https://localhost:8080/",
     "height": 443
    },
    "executionInfo": {
     "elapsed": 543,
     "status": "ok",
     "timestamp": 1698360170300,
     "user": {
      "displayName": "Alireza Delavari",
      "userId": "06699137348216229543"
     },
     "user_tz": -210
    },
    "id": "qCJMDbPYG5Zu",
    "outputId": "e6ac0bee-8668-41d5-8519-883bb20644a2"
   },
   "outputs": [
    {
     "data": {
      "text/html": [
       "<div>\n",
       "<style scoped>\n",
       "    .dataframe tbody tr th:only-of-type {\n",
       "        vertical-align: middle;\n",
       "    }\n",
       "\n",
       "    .dataframe tbody tr th {\n",
       "        vertical-align: top;\n",
       "    }\n",
       "\n",
       "    .dataframe thead th {\n",
       "        text-align: right;\n",
       "    }\n",
       "</style>\n",
       "<table border=\"1\" class=\"dataframe\">\n",
       "  <thead>\n",
       "    <tr style=\"text-align: right;\">\n",
       "      <th></th>\n",
       "      <th>LotArea</th>\n",
       "      <th>YearBuilt</th>\n",
       "      <th>YearRemodAdd</th>\n",
       "      <th>1stFlrSF</th>\n",
       "      <th>2ndFlrSF</th>\n",
       "      <th>GrLivArea</th>\n",
       "      <th>WoodDeckSF</th>\n",
       "      <th>OpenPorchSF</th>\n",
       "      <th>EnclosedPorch</th>\n",
       "      <th>ScreenPorch</th>\n",
       "      <th>...</th>\n",
       "      <th>MoSold_12</th>\n",
       "      <th>YrSold_2007</th>\n",
       "      <th>YrSold_2008</th>\n",
       "      <th>YrSold_2009</th>\n",
       "      <th>YrSold_2010</th>\n",
       "      <th>SaleCondition_AdjLand</th>\n",
       "      <th>SaleCondition_Alloca</th>\n",
       "      <th>SaleCondition_Family</th>\n",
       "      <th>SaleCondition_Normal</th>\n",
       "      <th>SaleCondition_Partial</th>\n",
       "    </tr>\n",
       "  </thead>\n",
       "  <tbody>\n",
       "    <tr>\n",
       "      <th>0</th>\n",
       "      <td>-0.215203</td>\n",
       "      <td>1.000867</td>\n",
       "      <td>0.852729</td>\n",
       "      <td>-0.748394</td>\n",
       "      <td>1.366295</td>\n",
       "      <td>0.694566</td>\n",
       "      <td>-0.807595</td>\n",
       "      <td>0.366145</td>\n",
       "      <td>-0.350365</td>\n",
       "      <td>-0.223808</td>\n",
       "      <td>...</td>\n",
       "      <td>False</td>\n",
       "      <td>False</td>\n",
       "      <td>True</td>\n",
       "      <td>False</td>\n",
       "      <td>False</td>\n",
       "      <td>False</td>\n",
       "      <td>False</td>\n",
       "      <td>False</td>\n",
       "      <td>True</td>\n",
       "      <td>False</td>\n",
       "    </tr>\n",
       "    <tr>\n",
       "      <th>1</th>\n",
       "      <td>0.087644</td>\n",
       "      <td>0.071177</td>\n",
       "      <td>-0.448346</td>\n",
       "      <td>0.471691</td>\n",
       "      <td>-0.779874</td>\n",
       "      <td>-0.362257</td>\n",
       "      <td>1.910733</td>\n",
       "      <td>-0.776223</td>\n",
       "      <td>-0.350365</td>\n",
       "      <td>-0.223808</td>\n",
       "      <td>...</td>\n",
       "      <td>False</td>\n",
       "      <td>True</td>\n",
       "      <td>False</td>\n",
       "      <td>False</td>\n",
       "      <td>False</td>\n",
       "      <td>False</td>\n",
       "      <td>False</td>\n",
       "      <td>False</td>\n",
       "      <td>True</td>\n",
       "      <td>False</td>\n",
       "    </tr>\n",
       "    <tr>\n",
       "      <th>2</th>\n",
       "      <td>0.522164</td>\n",
       "      <td>0.932001</td>\n",
       "      <td>0.804541</td>\n",
       "      <td>-0.556065</td>\n",
       "      <td>1.396452</td>\n",
       "      <td>0.873848</td>\n",
       "      <td>-0.807595</td>\n",
       "      <td>0.010326</td>\n",
       "      <td>-0.350365</td>\n",
       "      <td>-0.223808</td>\n",
       "      <td>...</td>\n",
       "      <td>False</td>\n",
       "      <td>False</td>\n",
       "      <td>True</td>\n",
       "      <td>False</td>\n",
       "      <td>False</td>\n",
       "      <td>False</td>\n",
       "      <td>False</td>\n",
       "      <td>False</td>\n",
       "      <td>True</td>\n",
       "      <td>False</td>\n",
       "    </tr>\n",
       "    <tr>\n",
       "      <th>3</th>\n",
       "      <td>1.314833</td>\n",
       "      <td>0.897568</td>\n",
       "      <td>0.708165</td>\n",
       "      <td>0.120090</td>\n",
       "      <td>1.866398</td>\n",
       "      <td>1.845748</td>\n",
       "      <td>0.943811</td>\n",
       "      <td>0.796874</td>\n",
       "      <td>-0.350365</td>\n",
       "      <td>-0.223808</td>\n",
       "      <td>...</td>\n",
       "      <td>True</td>\n",
       "      <td>False</td>\n",
       "      <td>True</td>\n",
       "      <td>False</td>\n",
       "      <td>False</td>\n",
       "      <td>False</td>\n",
       "      <td>False</td>\n",
       "      <td>False</td>\n",
       "      <td>True</td>\n",
       "      <td>False</td>\n",
       "    </tr>\n",
       "    <tr>\n",
       "      <th>4</th>\n",
       "      <td>0.215103</td>\n",
       "      <td>1.035300</td>\n",
       "      <td>0.949105</td>\n",
       "      <td>1.769909</td>\n",
       "      <td>-0.779874</td>\n",
       "      <td>0.656822</td>\n",
       "      <td>1.518491</td>\n",
       "      <td>0.291236</td>\n",
       "      <td>-0.350365</td>\n",
       "      <td>-0.223808</td>\n",
       "      <td>...</td>\n",
       "      <td>False</td>\n",
       "      <td>True</td>\n",
       "      <td>False</td>\n",
       "      <td>False</td>\n",
       "      <td>False</td>\n",
       "      <td>False</td>\n",
       "      <td>False</td>\n",
       "      <td>False</td>\n",
       "      <td>True</td>\n",
       "      <td>False</td>\n",
       "    </tr>\n",
       "    <tr>\n",
       "      <th>...</th>\n",
       "      <td>...</td>\n",
       "      <td>...</td>\n",
       "      <td>...</td>\n",
       "      <td>...</td>\n",
       "      <td>...</td>\n",
       "      <td>...</td>\n",
       "      <td>...</td>\n",
       "      <td>...</td>\n",
       "      <td>...</td>\n",
       "      <td>...</td>\n",
       "      <td>...</td>\n",
       "      <td>...</td>\n",
       "      <td>...</td>\n",
       "      <td>...</td>\n",
       "      <td>...</td>\n",
       "      <td>...</td>\n",
       "      <td>...</td>\n",
       "      <td>...</td>\n",
       "      <td>...</td>\n",
       "      <td>...</td>\n",
       "      <td>...</td>\n",
       "    </tr>\n",
       "    <tr>\n",
       "      <th>1455</th>\n",
       "      <td>-0.136199</td>\n",
       "      <td>0.828703</td>\n",
       "      <td>0.611789</td>\n",
       "      <td>-0.532024</td>\n",
       "      <td>1.341165</td>\n",
       "      <td>0.840823</td>\n",
       "      <td>0.560691</td>\n",
       "      <td>1.021602</td>\n",
       "      <td>-0.350365</td>\n",
       "      <td>-0.223808</td>\n",
       "      <td>...</td>\n",
       "      <td>False</td>\n",
       "      <td>False</td>\n",
       "      <td>False</td>\n",
       "      <td>True</td>\n",
       "      <td>False</td>\n",
       "      <td>False</td>\n",
       "      <td>False</td>\n",
       "      <td>False</td>\n",
       "      <td>True</td>\n",
       "      <td>False</td>\n",
       "    </tr>\n",
       "    <tr>\n",
       "      <th>1456</th>\n",
       "      <td>0.387594</td>\n",
       "      <td>0.966434</td>\n",
       "      <td>0.756353</td>\n",
       "      <td>1.018625</td>\n",
       "      <td>-0.779874</td>\n",
       "      <td>0.067077</td>\n",
       "      <td>0.505960</td>\n",
       "      <td>-0.027129</td>\n",
       "      <td>-0.350365</td>\n",
       "      <td>-0.223808</td>\n",
       "      <td>...</td>\n",
       "      <td>False</td>\n",
       "      <td>False</td>\n",
       "      <td>False</td>\n",
       "      <td>True</td>\n",
       "      <td>False</td>\n",
       "      <td>False</td>\n",
       "      <td>False</td>\n",
       "      <td>False</td>\n",
       "      <td>True</td>\n",
       "      <td>False</td>\n",
       "    </tr>\n",
       "    <tr>\n",
       "      <th>1457</th>\n",
       "      <td>0.500043</td>\n",
       "      <td>0.932001</td>\n",
       "      <td>0.756353</td>\n",
       "      <td>1.162872</td>\n",
       "      <td>-0.779874</td>\n",
       "      <td>0.180308</td>\n",
       "      <td>-0.807595</td>\n",
       "      <td>1.358694</td>\n",
       "      <td>-0.350365</td>\n",
       "      <td>5.175582</td>\n",
       "      <td>...</td>\n",
       "      <td>False</td>\n",
       "      <td>False</td>\n",
       "      <td>False</td>\n",
       "      <td>True</td>\n",
       "      <td>False</td>\n",
       "      <td>False</td>\n",
       "      <td>False</td>\n",
       "      <td>True</td>\n",
       "      <td>False</td>\n",
       "      <td>False</td>\n",
       "    </tr>\n",
       "    <tr>\n",
       "      <th>1458</th>\n",
       "      <td>1.843894</td>\n",
       "      <td>0.140043</td>\n",
       "      <td>-0.351970</td>\n",
       "      <td>-0.595132</td>\n",
       "      <td>-0.779874</td>\n",
       "      <td>-1.199694</td>\n",
       "      <td>-0.150818</td>\n",
       "      <td>-0.776223</td>\n",
       "      <td>-0.350365</td>\n",
       "      <td>-0.223808</td>\n",
       "      <td>...</td>\n",
       "      <td>False</td>\n",
       "      <td>False</td>\n",
       "      <td>False</td>\n",
       "      <td>True</td>\n",
       "      <td>False</td>\n",
       "      <td>False</td>\n",
       "      <td>False</td>\n",
       "      <td>False</td>\n",
       "      <td>True</td>\n",
       "      <td>False</td>\n",
       "    </tr>\n",
       "    <tr>\n",
       "      <th>1459</th>\n",
       "      <td>-0.610221</td>\n",
       "      <td>0.174476</td>\n",
       "      <td>-0.303782</td>\n",
       "      <td>-0.574096</td>\n",
       "      <td>-0.779874</td>\n",
       "      <td>-1.183181</td>\n",
       "      <td>-0.807595</td>\n",
       "      <td>-0.776223</td>\n",
       "      <td>-0.350365</td>\n",
       "      <td>-0.223808</td>\n",
       "      <td>...</td>\n",
       "      <td>False</td>\n",
       "      <td>False</td>\n",
       "      <td>False</td>\n",
       "      <td>True</td>\n",
       "      <td>False</td>\n",
       "      <td>False</td>\n",
       "      <td>False</td>\n",
       "      <td>False</td>\n",
       "      <td>True</td>\n",
       "      <td>False</td>\n",
       "    </tr>\n",
       "  </tbody>\n",
       "</table>\n",
       "<p>1460 rows × 152 columns</p>\n",
       "</div>"
      ],
      "text/plain": [
       "       LotArea  YearBuilt  YearRemodAdd  1stFlrSF  2ndFlrSF  GrLivArea  \\\n",
       "0    -0.215203   1.000867      0.852729 -0.748394  1.366295   0.694566   \n",
       "1     0.087644   0.071177     -0.448346  0.471691 -0.779874  -0.362257   \n",
       "2     0.522164   0.932001      0.804541 -0.556065  1.396452   0.873848   \n",
       "3     1.314833   0.897568      0.708165  0.120090  1.866398   1.845748   \n",
       "4     0.215103   1.035300      0.949105  1.769909 -0.779874   0.656822   \n",
       "...        ...        ...           ...       ...       ...        ...   \n",
       "1455 -0.136199   0.828703      0.611789 -0.532024  1.341165   0.840823   \n",
       "1456  0.387594   0.966434      0.756353  1.018625 -0.779874   0.067077   \n",
       "1457  0.500043   0.932001      0.756353  1.162872 -0.779874   0.180308   \n",
       "1458  1.843894   0.140043     -0.351970 -0.595132 -0.779874  -1.199694   \n",
       "1459 -0.610221   0.174476     -0.303782 -0.574096 -0.779874  -1.183181   \n",
       "\n",
       "      WoodDeckSF  OpenPorchSF  EnclosedPorch  ScreenPorch  ...  MoSold_12  \\\n",
       "0      -0.807595     0.366145      -0.350365    -0.223808  ...      False   \n",
       "1       1.910733    -0.776223      -0.350365    -0.223808  ...      False   \n",
       "2      -0.807595     0.010326      -0.350365    -0.223808  ...      False   \n",
       "3       0.943811     0.796874      -0.350365    -0.223808  ...       True   \n",
       "4       1.518491     0.291236      -0.350365    -0.223808  ...      False   \n",
       "...          ...          ...            ...          ...  ...        ...   \n",
       "1455    0.560691     1.021602      -0.350365    -0.223808  ...      False   \n",
       "1456    0.505960    -0.027129      -0.350365    -0.223808  ...      False   \n",
       "1457   -0.807595     1.358694      -0.350365     5.175582  ...      False   \n",
       "1458   -0.150818    -0.776223      -0.350365    -0.223808  ...      False   \n",
       "1459   -0.807595    -0.776223      -0.350365    -0.223808  ...      False   \n",
       "\n",
       "      YrSold_2007  YrSold_2008  YrSold_2009  YrSold_2010  \\\n",
       "0           False         True        False        False   \n",
       "1            True        False        False        False   \n",
       "2           False         True        False        False   \n",
       "3           False         True        False        False   \n",
       "4            True        False        False        False   \n",
       "...           ...          ...          ...          ...   \n",
       "1455        False        False         True        False   \n",
       "1456        False        False         True        False   \n",
       "1457        False        False         True        False   \n",
       "1458        False        False         True        False   \n",
       "1459        False        False         True        False   \n",
       "\n",
       "      SaleCondition_AdjLand  SaleCondition_Alloca  SaleCondition_Family  \\\n",
       "0                     False                 False                 False   \n",
       "1                     False                 False                 False   \n",
       "2                     False                 False                 False   \n",
       "3                     False                 False                 False   \n",
       "4                     False                 False                 False   \n",
       "...                     ...                   ...                   ...   \n",
       "1455                  False                 False                 False   \n",
       "1456                  False                 False                 False   \n",
       "1457                  False                 False                  True   \n",
       "1458                  False                 False                 False   \n",
       "1459                  False                 False                 False   \n",
       "\n",
       "      SaleCondition_Normal  SaleCondition_Partial  \n",
       "0                     True                  False  \n",
       "1                     True                  False  \n",
       "2                     True                  False  \n",
       "3                     True                  False  \n",
       "4                     True                  False  \n",
       "...                    ...                    ...  \n",
       "1455                  True                  False  \n",
       "1456                  True                  False  \n",
       "1457                 False                  False  \n",
       "1458                  True                  False  \n",
       "1459                  True                  False  \n",
       "\n",
       "[1460 rows x 152 columns]"
      ]
     },
     "execution_count": 26,
     "metadata": {},
     "output_type": "execute_result"
    }
   ],
   "source": [
    "X_train"
   ]
  },
  {
   "cell_type": "markdown",
   "metadata": {
    "id": "JNBlMDsmb5gv"
   },
   "source": [
    "**6. Evaluate model performance...**"
   ]
  },
  {
   "cell_type": "code",
   "execution_count": 27,
   "metadata": {
    "executionInfo": {
     "elapsed": 311,
     "status": "ok",
     "timestamp": 1698360172173,
     "user": {
      "displayName": "Alireza Delavari",
      "userId": "06699137348216229543"
     },
     "user_tz": -210
    },
    "id": "DkOGiSduFbCB"
   },
   "outputs": [],
   "source": [
    "# Parameters for Lasso Regression\n",
    "lasso_params = {'alpha': [0.001, 0.01, 0.1, 1, 10]}\n",
    "\n",
    "# Parameters for Elastic Net Regression\n",
    "elasticnet_params = {'alpha': [0.001, 0.01, 0.1, 1, 10],\n",
    "                    'l1_ratio': [0.1, 0.3, 0.5, 0.7, 0.9]}\n",
    "\n",
    "# Parameters for Kernel Ridge Regression\n",
    "kernel_ridge_params = {'alpha': [0.1, 1, 10],\n",
    "                       'kernel': ['linear', 'rbf']}\n",
    "\n",
    "# Parameters for Gradient Boosting Regression\n",
    "gradient_boosting_params = {'n_estimators': [50, 100, 150],\n",
    "                            'learning_rate': [0.01, 0.1, 0.2],\n",
    "                            'max_depth': [3, 4, 5]}\n"
   ]
  },
  {
   "cell_type": "code",
   "execution_count": 29,
   "metadata": {
    "executionInfo": {
     "elapsed": 118120,
     "status": "ok",
     "timestamp": 1698360528534,
     "user": {
      "displayName": "Alireza Delavari",
      "userId": "06699137348216229543"
     },
     "user_tz": -210
    },
    "id": "ireKGHP_FemS"
   },
   "outputs": [],
   "source": [
    "# Lasso Regression\n",
    "lasso_grid = GridSearchCV(Lasso(), param_grid=lasso_params, cv=5)\n",
    "lasso_grid.fit(X_train, y_train)\n",
    "lasso_best_params = lasso_grid.best_params_\n",
    "\n",
    "# Elastic Net Regression\n",
    "elasticnet_grid = GridSearchCV(ElasticNet(), param_grid=elasticnet_params, cv=5)\n",
    "elasticnet_grid.fit(X_train, y_train)\n",
    "elasticnet_best_params = elasticnet_grid.best_params_\n",
    "\n",
    "# Kernel Ridge Regression\n",
    "kernel_ridge_grid = GridSearchCV(KernelRidge(), param_grid=kernel_ridge_params, cv=5)\n",
    "kernel_ridge_grid.fit(X_train, y_train)\n",
    "kernel_ridge_best_params = kernel_ridge_grid.best_params_\n",
    "\n",
    "# Gradient Boosting Regression\n",
    "gradient_boosting_grid = GridSearchCV(GradientBoostingRegressor(), param_grid=gradient_boosting_params, cv=5)\n",
    "gradient_boosting_grid.fit(X_train, y_train)\n",
    "gradient_boosting_best_params = gradient_boosting_grid.best_params_\n"
   ]
  },
  {
   "cell_type": "code",
   "execution_count": 30,
   "metadata": {
    "colab": {
     "base_uri": "https://localhost:8080/"
    },
    "executionInfo": {
     "elapsed": 328,
     "status": "ok",
     "timestamp": 1698360839403,
     "user": {
      "displayName": "Alireza Delavari",
      "userId": "06699137348216229543"
     },
     "user_tz": -210
    },
    "id": "eBml9WEUKfUN",
    "outputId": "02537a01-5a28-47fb-dcfe-f2bd1d07f24b"
   },
   "outputs": [
    {
     "name": "stdout",
     "output_type": "stream",
     "text": [
      "Best Parameters:  {'alpha': 1}\n",
      "Best Estimator:  Lasso(alpha=1)\n"
     ]
    }
   ],
   "source": [
    "print(\"Best Parameters: \", lasso_grid.best_params_)\n",
    "print(\"Best Estimator: \", lasso_grid.best_estimator_)\n"
   ]
  },
  {
   "cell_type": "code",
   "execution_count": 31,
   "metadata": {
    "id": "ez94WMH0MgFo"
   },
   "outputs": [
    {
     "name": "stdout",
     "output_type": "stream",
     "text": [
      "Best Parameters:  {'alpha': 1}\n",
      "Best Estimator:  Lasso(alpha=1)\n"
     ]
    }
   ],
   "source": [
    "print(\"Best Parameters: \", lasso_grid.best_params_)\n",
    "print(\"Best Estimator: \", lasso_grid.best_estimator_)\n"
   ]
  },
  {
   "cell_type": "code",
   "execution_count": 32,
   "metadata": {
    "colab": {
     "base_uri": "https://localhost:8080/"
    },
    "executionInfo": {
     "elapsed": 419,
     "status": "ok",
     "timestamp": 1698360914429,
     "user": {
      "displayName": "Alireza Delavari",
      "userId": "06699137348216229543"
     },
     "user_tz": -210
    },
    "id": "6MyRBBx5Mnep",
    "outputId": "030a94b0-ec76-48a9-fb24-c417153d9ee3"
   },
   "outputs": [
    {
     "data": {
      "text/plain": [
       "{'mean_fit_time': array([0.10204496, 0.02287865, 0.01614032, 0.01332088, 0.01920705]),\n",
       " 'std_fit_time': array([0.00756346, 0.00373402, 0.00450329, 0.00839084, 0.00384116]),\n",
       " 'mean_score_time': array([0.        , 0.0021946 , 0.00160112, 0.00444603, 0.        ]),\n",
       " 'std_score_time': array([0.        , 0.00319933, 0.00320225, 0.00687881, 0.        ]),\n",
       " 'param_alpha': masked_array(data=[0.001, 0.01, 0.1, 1.0, 10.0],\n",
       "              mask=[False, False, False, False, False],\n",
       "        fill_value=1e+20),\n",
       " 'params': [{'alpha': 0.001},\n",
       "  {'alpha': 0.01},\n",
       "  {'alpha': 0.1},\n",
       "  {'alpha': 1},\n",
       "  {'alpha': 10}],\n",
       " 'split0_test_score': array([ 7.79054100e-01,  7.66374076e-01,  6.81215028e-01, -1.41094368e-04,\n",
       "        -1.41094368e-04]),\n",
       " 'split1_test_score': array([ 0.78364494,  0.7517687 ,  0.67065441, -0.01483497, -0.01483497]),\n",
       " 'split2_test_score': array([ 0.75954242,  0.73194087,  0.6366113 , -0.0108969 , -0.0108969 ]),\n",
       " 'split3_test_score': array([ 7.27339358e-01,  7.09774144e-01,  6.37419845e-01, -3.02920050e-04,\n",
       "        -3.02920050e-04]),\n",
       " 'split4_test_score': array([-18.84922056, -15.95058116, -11.87831982,  -1.20763367,\n",
       "         -1.20763367]),\n",
       " 'mean_test_score': array([-3.15992795, -2.59814467, -1.85048385, -0.24676191, -0.24676191]),\n",
       " 'std_test_score': array([7.84467137, 6.67624539, 5.01394931, 0.48047077, 0.48047077]),\n",
       " 'rank_test_score': array([5, 4, 3, 1, 1], dtype=int32)}"
      ]
     },
     "execution_count": 32,
     "metadata": {},
     "output_type": "execute_result"
    }
   ],
   "source": [
    "results = lasso_grid.cv_results_\n",
    "results"
   ]
  },
  {
   "cell_type": "code",
   "execution_count": 33,
   "metadata": {
    "colab": {
     "base_uri": "https://localhost:8080/"
    },
    "executionInfo": {
     "elapsed": 5810,
     "status": "ok",
     "timestamp": 1698361239568,
     "user": {
      "displayName": "Alireza Delavari",
      "userId": "06699137348216229543"
     },
     "user_tz": -210
    },
    "id": "YNkIfj4NMmsL",
    "outputId": "2ad7ba54-f17c-4277-b391-5ec2fe2cc503"
   },
   "outputs": [
    {
     "name": "stdout",
     "output_type": "stream",
     "text": [
      "lasso_grid Cross-Validation RMSE Scores:  [ 6634.38701797   336.46536341   149.55741912 10793.79428715\n",
      "   410.0367632 ]\n",
      "lasso_grid Mean RMSE:  3664.848170171168\n",
      "elasticnet_grid Cross-Validation RMSE Scores:  [21434.42264315 24081.53547292 20390.10749371 21955.93903086\n",
      " 23552.06317577]\n",
      "elasticnet_grid Mean RMSE:  22282.813563283515\n",
      "kernel_ridge_grid Cross-Validation RMSE Scores:  [62466.51322631 43511.5783172  34761.23047377 43133.78773823\n",
      " 50546.26909601]\n",
      "kernel_ridge_grid Mean RMSE:  46883.87577030273\n",
      "gradient_boosting_grid Cross-Validation RMSE Scores:  [33557.32857383 33307.5367292  27938.10088636 34626.30283382\n",
      " 38784.79243522]\n",
      "gradient_boosting_grid Mean RMSE:  33642.81229168429\n"
     ]
    }
   ],
   "source": [
    "from sklearn.model_selection import cross_val_score\n",
    "\n",
    "lasso_grid_mse_scores = cross_val_score(lasso_grid.best_estimator_, X_test, y_test, cv=5, scoring='neg_mean_squared_error')\n",
    "rmse_scores = np.sqrt(-lasso_grid_mse_scores)  # Convert back to positive values\n",
    "\n",
    "print(\"lasso_grid Cross-Validation RMSE Scores: \", rmse_scores)\n",
    "print(\"lasso_grid Mean RMSE: \", np.mean(rmse_scores))\n",
    "\n",
    "\n",
    "elasticnet_grid_mse_scores = cross_val_score(elasticnet_grid.best_estimator_, X_test, y_test, cv=5, scoring='neg_mean_squared_error')\n",
    "rmse_scores = np.sqrt(-elasticnet_grid_mse_scores)  # Convert back to positive values\n",
    "\n",
    "print(\"elasticnet_grid Cross-Validation RMSE Scores: \", rmse_scores)\n",
    "print(\"elasticnet_grid Mean RMSE: \", np.mean(rmse_scores))\n",
    "\n",
    "\n",
    "kernel_ridge_grid_mse_scores = cross_val_score(kernel_ridge_grid.best_estimator_, X_test, y_test, cv=5, scoring='neg_mean_squared_error')\n",
    "rmse_scores = np.sqrt(-kernel_ridge_grid_mse_scores)  # Convert back to positive values\n",
    "\n",
    "print(\"kernel_ridge_grid Cross-Validation RMSE Scores: \", rmse_scores)\n",
    "print(\"kernel_ridge_grid Mean RMSE: \", np.mean(rmse_scores))\n",
    "\n",
    "\n",
    "\n",
    "gradient_boosting_grid_mse_scores = cross_val_score(gradient_boosting_grid.best_estimator_, X_test, y_test, cv=5, scoring='neg_mean_squared_error')\n",
    "rmse_scores = np.sqrt(-gradient_boosting_grid_mse_scores)  # Convert back to positive values\n",
    "\n",
    "print(\"gradient_boosting_grid Cross-Validation RMSE Scores: \", rmse_scores)\n",
    "print(\"gradient_boosting_grid Mean RMSE: \", np.mean(rmse_scores))"
   ]
  },
  {
   "cell_type": "code",
   "execution_count": 34,
   "metadata": {
    "colab": {
     "base_uri": "https://localhost:8080/"
    },
    "executionInfo": {
     "elapsed": 310,
     "status": "ok",
     "timestamp": 1698364495339,
     "user": {
      "displayName": "Alireza Delavari",
      "userId": "06699137348216229543"
     },
     "user_tz": -210
    },
    "id": "UrazbyLiZ1gD",
    "outputId": "97f3e8a8-68a0-4b34-960e-bfc67da47edd"
   },
   "outputs": [
    {
     "name": "stdout",
     "output_type": "stream",
     "text": [
      "Lasso Regression Model - MSE: 312766057900.95\n",
      "Lasso Regression Model - R2 Score: -153.09\n",
      "Elastic Net Model - MSE: 312766057900.95\n",
      "Elastic Net Model - R2 Score: -153.09\n",
      "Kernel Ridge Model - MSE: 312766019879.32\n",
      "Kernel Ridge Model - R2 Score: -153.09\n",
      "Gradient Boosting Model - MSE: 312766046018.80\n",
      "Gradient Boosting Model - R2 Score: -153.09\n"
     ]
    }
   ],
   "source": [
    "from sklearn.metrics import mean_squared_error, r2_score\n",
    "\n",
    "# Calculate R-squared (R2) and MSE for Lasso Regression model\n",
    "lasso_predictions = lasso_grid.best_estimator_.predict(X_test)\n",
    "lasso_r2 = r2_score(y_test, lasso_predictions)\n",
    "lasso_mse = mean_squared_error(y_test, lasso_predictions)\n",
    "print(\"Lasso Regression Model - MSE: {:.2f}\".format(lasso_mse))\n",
    "print(\"Lasso Regression Model - R2 Score: {:.2f}\".format(lasso_r2))\n",
    "\n",
    "# Calculate R-squared (R2) and MSE for Elastic Net model\n",
    "elasticnet_predictions = elasticnet_grid.best_estimator_.predict(X_test)\n",
    "elasticnet_r2 = r2_score(y_test, elasticnet_predictions)\n",
    "elasticnet_mse = mean_squared_error(y_test, elasticnet_predictions)\n",
    "print(\"Elastic Net Model - MSE: {:.2f}\".format(elasticnet_mse))\n",
    "print(\"Elastic Net Model - R2 Score: {:.2f}\".format(elasticnet_r2))\n",
    "\n",
    "# Calculate R-squared (R2) and MSE for Kernel Ridge model\n",
    "kernel_ridge_predictions = kernel_ridge_grid.best_estimator_.predict(X_test)\n",
    "kernel_ridge_r2 = r2_score(y_test, kernel_ridge_predictions)\n",
    "kernel_ridge_mse = mean_squared_error(y_test, kernel_ridge_predictions)\n",
    "print(\"Kernel Ridge Model - MSE: {:.2f}\".format(kernel_ridge_mse))\n",
    "print(\"Kernel Ridge Model - R2 Score: {:.2f}\".format(kernel_ridge_r2))\n",
    "\n",
    "# Calculate R-squared (R2) and MSE for Gradient Boosting model\n",
    "gradient_boosting_predictions = gradient_boosting_grid.best_estimator_.predict(X_test)\n",
    "gradient_boosting_r2 = r2_score(y_test, gradient_boosting_predictions)\n",
    "gradient_boosting_mse = mean_squared_error(y_test, gradient_boosting_predictions)\n",
    "print(\"Gradient Boosting Model - MSE: {:.2f}\".format(gradient_boosting_mse))\n",
    "print(\"Gradient Boosting Model - R2 Score: {:.2f}\".format(gradient_boosting_r2))\n"
   ]
  },
  {
   "cell_type": "code",
   "execution_count": 35,
   "metadata": {
    "colab": {
     "base_uri": "https://localhost:8080/"
    },
    "executionInfo": {
     "elapsed": 327,
     "status": "ok",
     "timestamp": 1698361351748,
     "user": {
      "displayName": "Alireza Delavari",
      "userId": "06699137348216229543"
     },
     "user_tz": -210
    },
    "id": "H-dJhUh9OR8m",
    "outputId": "a8738187-1ba0-4414-bc58-bfbc8b58d9cf"
   },
   "outputs": [
    {
     "name": "stdout",
     "output_type": "stream",
     "text": [
      "Best Parameters:  {'alpha': 1, 'l1_ratio': 0.7}\n",
      "Best Estimator:  ElasticNet(alpha=1, l1_ratio=0.7)\n"
     ]
    }
   ],
   "source": [
    "print(\"Best Parameters: \", elasticnet_grid.best_params_)\n",
    "print(\"Best Estimator: \", elasticnet_grid.best_estimator_)"
   ]
  },
  {
   "cell_type": "markdown",
   "metadata": {
    "id": "kn6SbMvwbzTq"
   },
   "source": [
    "**8. Train a Stacked Regression model...**"
   ]
  },
  {
   "cell_type": "code",
   "execution_count": 36,
   "metadata": {
    "executionInfo": {
     "elapsed": 306,
     "status": "ok",
     "timestamp": 1698362986807,
     "user": {
      "displayName": "Alireza Delavari",
      "userId": "06699137348216229543"
     },
     "user_tz": -210
    },
    "id": "Az3Tsi0mTjO1"
   },
   "outputs": [],
   "source": [
    "from sklearn.ensemble import RandomForestRegressor, GradientBoostingRegressor\n",
    "from sklearn.linear_model import Lasso, ElasticNet\n",
    "import numpy as np\n",
    "\n",
    "# Define base models\n",
    "base_models = [\n",
    "    ('lasso', Lasso(alpha=0.1)),\n",
    "    ('elasticnet', ElasticNet(alpha=0.1, l1_ratio=0.5)),\n",
    "    ('random_forest', RandomForestRegressor(n_estimators=100, random_state=42)),\n",
    "    ('gradient_boosting', GradientBoostingRegressor(n_estimators=100, learning_rate=0.1, max_depth=3, random_state=42))\n",
    "]\n"
   ]
  },
  {
   "cell_type": "code",
   "execution_count": 37,
   "metadata": {
    "executionInfo": {
     "elapsed": 3,
     "status": "ok",
     "timestamp": 1698362987216,
     "user": {
      "displayName": "Alireza Delavari",
      "userId": "06699137348216229543"
     },
     "user_tz": -210
    },
    "id": "Sr1keyU2TnrA"
   },
   "outputs": [],
   "source": [
    "# Define meta-model\n",
    "meta_model = Lasso(alpha=0.1)\n"
   ]
  },
  {
   "cell_type": "code",
   "execution_count": 38,
   "metadata": {
    "executionInfo": {
     "elapsed": 3,
     "status": "ok",
     "timestamp": 1698362987972,
     "user": {
      "displayName": "Alireza Delavari",
      "userId": "06699137348216229543"
     },
     "user_tz": -210
    },
    "id": "nMlhWBDfTogs"
   },
   "outputs": [],
   "source": [
    "# Create a list to hold the predictions from base models for the test set\n",
    "base_models_test_predictions = []\n"
   ]
  },
  {
   "cell_type": "code",
   "execution_count": 39,
   "metadata": {
    "executionInfo": {
     "elapsed": 3397,
     "status": "ok",
     "timestamp": 1698362991758,
     "user": {
      "displayName": "Alireza Delavari",
      "userId": "06699137348216229543"
     },
     "user_tz": -210
    },
    "id": "jzaL9256TpUw"
   },
   "outputs": [],
   "source": [
    "# Generate predictions from base models for the test set\n",
    "for name, model in base_models:\n",
    "    model.fit(X_train, y_train)\n",
    "    preds = model.predict(X_test)\n",
    "    base_models_test_predictions.append(preds)"
   ]
  },
  {
   "cell_type": "code",
   "execution_count": 40,
   "metadata": {
    "executionInfo": {
     "elapsed": 4,
     "status": "ok",
     "timestamp": 1698362991758,
     "user": {
      "displayName": "Alireza Delavari",
      "userId": "06699137348216229543"
     },
     "user_tz": -210
    },
    "id": "IHoFjRkjTja2"
   },
   "outputs": [],
   "source": [
    "# Prepare the meta-features for the test set\n",
    "meta_features_test = np.array(base_models_test_predictions).T"
   ]
  },
  {
   "cell_type": "code",
   "execution_count": 41,
   "metadata": {
    "executionInfo": {
     "elapsed": 2697,
     "status": "ok",
     "timestamp": 1698362994452,
     "user": {
      "displayName": "Alireza Delavari",
      "userId": "06699137348216229543"
     },
     "user_tz": -210
    },
    "id": "g7txEYuKT297"
   },
   "outputs": [],
   "source": [
    "# Train the meta-model on the entire training set (X_train and y_train)\n",
    "# Generate predictions from base models for the training set for meta-model training\n",
    "base_models_train_predictions = []\n",
    "for name, model in base_models:\n",
    "    model.fit(X_train, y_train)\n",
    "    preds = model.predict(X_train)\n",
    "    base_models_train_predictions.append(preds)"
   ]
  },
  {
   "cell_type": "code",
   "execution_count": 42,
   "metadata": {
    "executionInfo": {
     "elapsed": 4,
     "status": "ok",
     "timestamp": 1698362994453,
     "user": {
      "displayName": "Alireza Delavari",
      "userId": "06699137348216229543"
     },
     "user_tz": -210
    },
    "id": "XP96q3zRT7u1"
   },
   "outputs": [],
   "source": [
    "# Prepare the meta-features for training the meta-model (training set)\n",
    "meta_features_train = np.array(base_models_train_predictions).T"
   ]
  },
  {
   "cell_type": "code",
   "execution_count": 43,
   "metadata": {
    "colab": {
     "base_uri": "https://localhost:8080/",
     "height": 74
    },
    "executionInfo": {
     "elapsed": 323,
     "status": "ok",
     "timestamp": 1698362996008,
     "user": {
      "displayName": "Alireza Delavari",
      "userId": "06699137348216229543"
     },
     "user_tz": -210
    },
    "id": "n4aNnMcBT71K",
    "outputId": "c1e157da-174b-41cf-aabd-9d3dd3a33859"
   },
   "outputs": [
    {
     "data": {
      "text/html": [
       "<style>#sk-container-id-1 {\n",
       "  /* Definition of color scheme common for light and dark mode */\n",
       "  --sklearn-color-text: black;\n",
       "  --sklearn-color-line: gray;\n",
       "  /* Definition of color scheme for unfitted estimators */\n",
       "  --sklearn-color-unfitted-level-0: #fff5e6;\n",
       "  --sklearn-color-unfitted-level-1: #f6e4d2;\n",
       "  --sklearn-color-unfitted-level-2: #ffe0b3;\n",
       "  --sklearn-color-unfitted-level-3: chocolate;\n",
       "  /* Definition of color scheme for fitted estimators */\n",
       "  --sklearn-color-fitted-level-0: #f0f8ff;\n",
       "  --sklearn-color-fitted-level-1: #d4ebff;\n",
       "  --sklearn-color-fitted-level-2: #b3dbfd;\n",
       "  --sklearn-color-fitted-level-3: cornflowerblue;\n",
       "\n",
       "  /* Specific color for light theme */\n",
       "  --sklearn-color-text-on-default-background: var(--sg-text-color, var(--theme-code-foreground, var(--jp-content-font-color1, black)));\n",
       "  --sklearn-color-background: var(--sg-background-color, var(--theme-background, var(--jp-layout-color0, white)));\n",
       "  --sklearn-color-border-box: var(--sg-text-color, var(--theme-code-foreground, var(--jp-content-font-color1, black)));\n",
       "  --sklearn-color-icon: #696969;\n",
       "\n",
       "  @media (prefers-color-scheme: dark) {\n",
       "    /* Redefinition of color scheme for dark theme */\n",
       "    --sklearn-color-text-on-default-background: var(--sg-text-color, var(--theme-code-foreground, var(--jp-content-font-color1, white)));\n",
       "    --sklearn-color-background: var(--sg-background-color, var(--theme-background, var(--jp-layout-color0, #111)));\n",
       "    --sklearn-color-border-box: var(--sg-text-color, var(--theme-code-foreground, var(--jp-content-font-color1, white)));\n",
       "    --sklearn-color-icon: #878787;\n",
       "  }\n",
       "}\n",
       "\n",
       "#sk-container-id-1 {\n",
       "  color: var(--sklearn-color-text);\n",
       "}\n",
       "\n",
       "#sk-container-id-1 pre {\n",
       "  padding: 0;\n",
       "}\n",
       "\n",
       "#sk-container-id-1 input.sk-hidden--visually {\n",
       "  border: 0;\n",
       "  clip: rect(1px 1px 1px 1px);\n",
       "  clip: rect(1px, 1px, 1px, 1px);\n",
       "  height: 1px;\n",
       "  margin: -1px;\n",
       "  overflow: hidden;\n",
       "  padding: 0;\n",
       "  position: absolute;\n",
       "  width: 1px;\n",
       "}\n",
       "\n",
       "#sk-container-id-1 div.sk-dashed-wrapped {\n",
       "  border: 1px dashed var(--sklearn-color-line);\n",
       "  margin: 0 0.4em 0.5em 0.4em;\n",
       "  box-sizing: border-box;\n",
       "  padding-bottom: 0.4em;\n",
       "  background-color: var(--sklearn-color-background);\n",
       "}\n",
       "\n",
       "#sk-container-id-1 div.sk-container {\n",
       "  /* jupyter's `normalize.less` sets `[hidden] { display: none; }`\n",
       "     but bootstrap.min.css set `[hidden] { display: none !important; }`\n",
       "     so we also need the `!important` here to be able to override the\n",
       "     default hidden behavior on the sphinx rendered scikit-learn.org.\n",
       "     See: https://github.com/scikit-learn/scikit-learn/issues/21755 */\n",
       "  display: inline-block !important;\n",
       "  position: relative;\n",
       "}\n",
       "\n",
       "#sk-container-id-1 div.sk-text-repr-fallback {\n",
       "  display: none;\n",
       "}\n",
       "\n",
       "div.sk-parallel-item,\n",
       "div.sk-serial,\n",
       "div.sk-item {\n",
       "  /* draw centered vertical line to link estimators */\n",
       "  background-image: linear-gradient(var(--sklearn-color-text-on-default-background), var(--sklearn-color-text-on-default-background));\n",
       "  background-size: 2px 100%;\n",
       "  background-repeat: no-repeat;\n",
       "  background-position: center center;\n",
       "}\n",
       "\n",
       "/* Parallel-specific style estimator block */\n",
       "\n",
       "#sk-container-id-1 div.sk-parallel-item::after {\n",
       "  content: \"\";\n",
       "  width: 100%;\n",
       "  border-bottom: 2px solid var(--sklearn-color-text-on-default-background);\n",
       "  flex-grow: 1;\n",
       "}\n",
       "\n",
       "#sk-container-id-1 div.sk-parallel {\n",
       "  display: flex;\n",
       "  align-items: stretch;\n",
       "  justify-content: center;\n",
       "  background-color: var(--sklearn-color-background);\n",
       "  position: relative;\n",
       "}\n",
       "\n",
       "#sk-container-id-1 div.sk-parallel-item {\n",
       "  display: flex;\n",
       "  flex-direction: column;\n",
       "}\n",
       "\n",
       "#sk-container-id-1 div.sk-parallel-item:first-child::after {\n",
       "  align-self: flex-end;\n",
       "  width: 50%;\n",
       "}\n",
       "\n",
       "#sk-container-id-1 div.sk-parallel-item:last-child::after {\n",
       "  align-self: flex-start;\n",
       "  width: 50%;\n",
       "}\n",
       "\n",
       "#sk-container-id-1 div.sk-parallel-item:only-child::after {\n",
       "  width: 0;\n",
       "}\n",
       "\n",
       "/* Serial-specific style estimator block */\n",
       "\n",
       "#sk-container-id-1 div.sk-serial {\n",
       "  display: flex;\n",
       "  flex-direction: column;\n",
       "  align-items: center;\n",
       "  background-color: var(--sklearn-color-background);\n",
       "  padding-right: 1em;\n",
       "  padding-left: 1em;\n",
       "}\n",
       "\n",
       "\n",
       "/* Toggleable style: style used for estimator/Pipeline/ColumnTransformer box that is\n",
       "clickable and can be expanded/collapsed.\n",
       "- Pipeline and ColumnTransformer use this feature and define the default style\n",
       "- Estimators will overwrite some part of the style using the `sk-estimator` class\n",
       "*/\n",
       "\n",
       "/* Pipeline and ColumnTransformer style (default) */\n",
       "\n",
       "#sk-container-id-1 div.sk-toggleable {\n",
       "  /* Default theme specific background. It is overwritten whether we have a\n",
       "  specific estimator or a Pipeline/ColumnTransformer */\n",
       "  background-color: var(--sklearn-color-background);\n",
       "}\n",
       "\n",
       "/* Toggleable label */\n",
       "#sk-container-id-1 label.sk-toggleable__label {\n",
       "  cursor: pointer;\n",
       "  display: block;\n",
       "  width: 100%;\n",
       "  margin-bottom: 0;\n",
       "  padding: 0.5em;\n",
       "  box-sizing: border-box;\n",
       "  text-align: center;\n",
       "}\n",
       "\n",
       "#sk-container-id-1 label.sk-toggleable__label-arrow:before {\n",
       "  /* Arrow on the left of the label */\n",
       "  content: \"▸\";\n",
       "  float: left;\n",
       "  margin-right: 0.25em;\n",
       "  color: var(--sklearn-color-icon);\n",
       "}\n",
       "\n",
       "#sk-container-id-1 label.sk-toggleable__label-arrow:hover:before {\n",
       "  color: var(--sklearn-color-text);\n",
       "}\n",
       "\n",
       "/* Toggleable content - dropdown */\n",
       "\n",
       "#sk-container-id-1 div.sk-toggleable__content {\n",
       "  max-height: 0;\n",
       "  max-width: 0;\n",
       "  overflow: hidden;\n",
       "  text-align: left;\n",
       "  /* unfitted */\n",
       "  background-color: var(--sklearn-color-unfitted-level-0);\n",
       "}\n",
       "\n",
       "#sk-container-id-1 div.sk-toggleable__content.fitted {\n",
       "  /* fitted */\n",
       "  background-color: var(--sklearn-color-fitted-level-0);\n",
       "}\n",
       "\n",
       "#sk-container-id-1 div.sk-toggleable__content pre {\n",
       "  margin: 0.2em;\n",
       "  border-radius: 0.25em;\n",
       "  color: var(--sklearn-color-text);\n",
       "  /* unfitted */\n",
       "  background-color: var(--sklearn-color-unfitted-level-0);\n",
       "}\n",
       "\n",
       "#sk-container-id-1 div.sk-toggleable__content.fitted pre {\n",
       "  /* unfitted */\n",
       "  background-color: var(--sklearn-color-fitted-level-0);\n",
       "}\n",
       "\n",
       "#sk-container-id-1 input.sk-toggleable__control:checked~div.sk-toggleable__content {\n",
       "  /* Expand drop-down */\n",
       "  max-height: 200px;\n",
       "  max-width: 100%;\n",
       "  overflow: auto;\n",
       "}\n",
       "\n",
       "#sk-container-id-1 input.sk-toggleable__control:checked~label.sk-toggleable__label-arrow:before {\n",
       "  content: \"▾\";\n",
       "}\n",
       "\n",
       "/* Pipeline/ColumnTransformer-specific style */\n",
       "\n",
       "#sk-container-id-1 div.sk-label input.sk-toggleable__control:checked~label.sk-toggleable__label {\n",
       "  color: var(--sklearn-color-text);\n",
       "  background-color: var(--sklearn-color-unfitted-level-2);\n",
       "}\n",
       "\n",
       "#sk-container-id-1 div.sk-label.fitted input.sk-toggleable__control:checked~label.sk-toggleable__label {\n",
       "  background-color: var(--sklearn-color-fitted-level-2);\n",
       "}\n",
       "\n",
       "/* Estimator-specific style */\n",
       "\n",
       "/* Colorize estimator box */\n",
       "#sk-container-id-1 div.sk-estimator input.sk-toggleable__control:checked~label.sk-toggleable__label {\n",
       "  /* unfitted */\n",
       "  background-color: var(--sklearn-color-unfitted-level-2);\n",
       "}\n",
       "\n",
       "#sk-container-id-1 div.sk-estimator.fitted input.sk-toggleable__control:checked~label.sk-toggleable__label {\n",
       "  /* fitted */\n",
       "  background-color: var(--sklearn-color-fitted-level-2);\n",
       "}\n",
       "\n",
       "#sk-container-id-1 div.sk-label label.sk-toggleable__label,\n",
       "#sk-container-id-1 div.sk-label label {\n",
       "  /* The background is the default theme color */\n",
       "  color: var(--sklearn-color-text-on-default-background);\n",
       "}\n",
       "\n",
       "/* On hover, darken the color of the background */\n",
       "#sk-container-id-1 div.sk-label:hover label.sk-toggleable__label {\n",
       "  color: var(--sklearn-color-text);\n",
       "  background-color: var(--sklearn-color-unfitted-level-2);\n",
       "}\n",
       "\n",
       "/* Label box, darken color on hover, fitted */\n",
       "#sk-container-id-1 div.sk-label.fitted:hover label.sk-toggleable__label.fitted {\n",
       "  color: var(--sklearn-color-text);\n",
       "  background-color: var(--sklearn-color-fitted-level-2);\n",
       "}\n",
       "\n",
       "/* Estimator label */\n",
       "\n",
       "#sk-container-id-1 div.sk-label label {\n",
       "  font-family: monospace;\n",
       "  font-weight: bold;\n",
       "  display: inline-block;\n",
       "  line-height: 1.2em;\n",
       "}\n",
       "\n",
       "#sk-container-id-1 div.sk-label-container {\n",
       "  text-align: center;\n",
       "}\n",
       "\n",
       "/* Estimator-specific */\n",
       "#sk-container-id-1 div.sk-estimator {\n",
       "  font-family: monospace;\n",
       "  border: 1px dotted var(--sklearn-color-border-box);\n",
       "  border-radius: 0.25em;\n",
       "  box-sizing: border-box;\n",
       "  margin-bottom: 0.5em;\n",
       "  /* unfitted */\n",
       "  background-color: var(--sklearn-color-unfitted-level-0);\n",
       "}\n",
       "\n",
       "#sk-container-id-1 div.sk-estimator.fitted {\n",
       "  /* fitted */\n",
       "  background-color: var(--sklearn-color-fitted-level-0);\n",
       "}\n",
       "\n",
       "/* on hover */\n",
       "#sk-container-id-1 div.sk-estimator:hover {\n",
       "  /* unfitted */\n",
       "  background-color: var(--sklearn-color-unfitted-level-2);\n",
       "}\n",
       "\n",
       "#sk-container-id-1 div.sk-estimator.fitted:hover {\n",
       "  /* fitted */\n",
       "  background-color: var(--sklearn-color-fitted-level-2);\n",
       "}\n",
       "\n",
       "/* Specification for estimator info (e.g. \"i\" and \"?\") */\n",
       "\n",
       "/* Common style for \"i\" and \"?\" */\n",
       "\n",
       ".sk-estimator-doc-link,\n",
       "a:link.sk-estimator-doc-link,\n",
       "a:visited.sk-estimator-doc-link {\n",
       "  float: right;\n",
       "  font-size: smaller;\n",
       "  line-height: 1em;\n",
       "  font-family: monospace;\n",
       "  background-color: var(--sklearn-color-background);\n",
       "  border-radius: 1em;\n",
       "  height: 1em;\n",
       "  width: 1em;\n",
       "  text-decoration: none !important;\n",
       "  margin-left: 1ex;\n",
       "  /* unfitted */\n",
       "  border: var(--sklearn-color-unfitted-level-1) 1pt solid;\n",
       "  color: var(--sklearn-color-unfitted-level-1);\n",
       "}\n",
       "\n",
       ".sk-estimator-doc-link.fitted,\n",
       "a:link.sk-estimator-doc-link.fitted,\n",
       "a:visited.sk-estimator-doc-link.fitted {\n",
       "  /* fitted */\n",
       "  border: var(--sklearn-color-fitted-level-1) 1pt solid;\n",
       "  color: var(--sklearn-color-fitted-level-1);\n",
       "}\n",
       "\n",
       "/* On hover */\n",
       "div.sk-estimator:hover .sk-estimator-doc-link:hover,\n",
       ".sk-estimator-doc-link:hover,\n",
       "div.sk-label-container:hover .sk-estimator-doc-link:hover,\n",
       ".sk-estimator-doc-link:hover {\n",
       "  /* unfitted */\n",
       "  background-color: var(--sklearn-color-unfitted-level-3);\n",
       "  color: var(--sklearn-color-background);\n",
       "  text-decoration: none;\n",
       "}\n",
       "\n",
       "div.sk-estimator.fitted:hover .sk-estimator-doc-link.fitted:hover,\n",
       ".sk-estimator-doc-link.fitted:hover,\n",
       "div.sk-label-container:hover .sk-estimator-doc-link.fitted:hover,\n",
       ".sk-estimator-doc-link.fitted:hover {\n",
       "  /* fitted */\n",
       "  background-color: var(--sklearn-color-fitted-level-3);\n",
       "  color: var(--sklearn-color-background);\n",
       "  text-decoration: none;\n",
       "}\n",
       "\n",
       "/* Span, style for the box shown on hovering the info icon */\n",
       ".sk-estimator-doc-link span {\n",
       "  display: none;\n",
       "  z-index: 9999;\n",
       "  position: relative;\n",
       "  font-weight: normal;\n",
       "  right: .2ex;\n",
       "  padding: .5ex;\n",
       "  margin: .5ex;\n",
       "  width: min-content;\n",
       "  min-width: 20ex;\n",
       "  max-width: 50ex;\n",
       "  color: var(--sklearn-color-text);\n",
       "  box-shadow: 2pt 2pt 4pt #999;\n",
       "  /* unfitted */\n",
       "  background: var(--sklearn-color-unfitted-level-0);\n",
       "  border: .5pt solid var(--sklearn-color-unfitted-level-3);\n",
       "}\n",
       "\n",
       ".sk-estimator-doc-link.fitted span {\n",
       "  /* fitted */\n",
       "  background: var(--sklearn-color-fitted-level-0);\n",
       "  border: var(--sklearn-color-fitted-level-3);\n",
       "}\n",
       "\n",
       ".sk-estimator-doc-link:hover span {\n",
       "  display: block;\n",
       "}\n",
       "\n",
       "/* \"?\"-specific style due to the `<a>` HTML tag */\n",
       "\n",
       "#sk-container-id-1 a.estimator_doc_link {\n",
       "  float: right;\n",
       "  font-size: 1rem;\n",
       "  line-height: 1em;\n",
       "  font-family: monospace;\n",
       "  background-color: var(--sklearn-color-background);\n",
       "  border-radius: 1rem;\n",
       "  height: 1rem;\n",
       "  width: 1rem;\n",
       "  text-decoration: none;\n",
       "  /* unfitted */\n",
       "  color: var(--sklearn-color-unfitted-level-1);\n",
       "  border: var(--sklearn-color-unfitted-level-1) 1pt solid;\n",
       "}\n",
       "\n",
       "#sk-container-id-1 a.estimator_doc_link.fitted {\n",
       "  /* fitted */\n",
       "  border: var(--sklearn-color-fitted-level-1) 1pt solid;\n",
       "  color: var(--sklearn-color-fitted-level-1);\n",
       "}\n",
       "\n",
       "/* On hover */\n",
       "#sk-container-id-1 a.estimator_doc_link:hover {\n",
       "  /* unfitted */\n",
       "  background-color: var(--sklearn-color-unfitted-level-3);\n",
       "  color: var(--sklearn-color-background);\n",
       "  text-decoration: none;\n",
       "}\n",
       "\n",
       "#sk-container-id-1 a.estimator_doc_link.fitted:hover {\n",
       "  /* fitted */\n",
       "  background-color: var(--sklearn-color-fitted-level-3);\n",
       "}\n",
       "</style><div id=\"sk-container-id-1\" class=\"sk-top-container\"><div class=\"sk-text-repr-fallback\"><pre>Lasso(alpha=0.1)</pre><b>In a Jupyter environment, please rerun this cell to show the HTML representation or trust the notebook. <br />On GitHub, the HTML representation is unable to render, please try loading this page with nbviewer.org.</b></div><div class=\"sk-container\" hidden><div class=\"sk-item\"><div class=\"sk-estimator fitted sk-toggleable\"><input class=\"sk-toggleable__control sk-hidden--visually\" id=\"sk-estimator-id-1\" type=\"checkbox\" checked><label for=\"sk-estimator-id-1\" class=\"sk-toggleable__label fitted sk-toggleable__label-arrow fitted\">&nbsp;&nbsp;Lasso<a class=\"sk-estimator-doc-link fitted\" rel=\"noreferrer\" target=\"_blank\" href=\"https://scikit-learn.org/1.5/modules/generated/sklearn.linear_model.Lasso.html\">?<span>Documentation for Lasso</span></a><span class=\"sk-estimator-doc-link fitted\">i<span>Fitted</span></span></label><div class=\"sk-toggleable__content fitted\"><pre>Lasso(alpha=0.1)</pre></div> </div></div></div></div>"
      ],
      "text/plain": [
       "Lasso(alpha=0.1)"
      ]
     },
     "execution_count": 43,
     "metadata": {},
     "output_type": "execute_result"
    }
   ],
   "source": [
    "# Train the meta-model on the meta-features (training set)\n",
    "meta_model.fit(meta_features_train, y_train)"
   ]
  },
  {
   "cell_type": "code",
   "execution_count": 44,
   "metadata": {
    "executionInfo": {
     "elapsed": 332,
     "status": "ok",
     "timestamp": 1698363009931,
     "user": {
      "displayName": "Alireza Delavari",
      "userId": "06699137348216229543"
     },
     "user_tz": -210
    },
    "id": "2dW_wUa5T_xw"
   },
   "outputs": [],
   "source": [
    "# Make predictions using the meta-model on the test set\n",
    "stacked_predictions = meta_model.predict(meta_features_test)"
   ]
  },
  {
   "cell_type": "markdown",
   "metadata": {
    "id": "if0C38h0bsxb"
   },
   "source": [
    "**9. Report the MSE and R²...**"
   ]
  },
  {
   "cell_type": "code",
   "execution_count": 45,
   "metadata": {
    "colab": {
     "base_uri": "https://localhost:8080/"
    },
    "executionInfo": {
     "elapsed": 368,
     "status": "ok",
     "timestamp": 1698363262935,
     "user": {
      "displayName": "Alireza Delavari",
      "userId": "06699137348216229543"
     },
     "user_tz": -210
    },
    "id": "Iim8uXZEUn2x",
    "outputId": "cd0fb173-ca9b-4c40-a874-9ffcd1643ecd"
   },
   "outputs": [
    {
     "name": "stdout",
     "output_type": "stream",
     "text": [
      "Stacked Regression Model - MSE: 312766028378.00\n",
      "Stacked Regression Model - R2 Score: -153.09\n"
     ]
    }
   ],
   "source": [
    "from sklearn.metrics import mean_squared_error, r2_score\n",
    "\n",
    "\n",
    "stacked_mse = mean_squared_error(y_test, stacked_predictions)\n",
    "\n",
    "\n",
    "stacked_r2 = r2_score(y_test, stacked_predictions)\n",
    "\n",
    "print(\"Stacked Regression Model - MSE: {:.2f}\".format(stacked_mse))\n",
    "print(\"Stacked Regression Model - R2 Score: {:.2f}\".format(stacked_r2))\n"
   ]
  },
  {
   "cell_type": "code",
   "execution_count": 46,
   "metadata": {
    "colab": {
     "base_uri": "https://localhost:8080/"
    },
    "executionInfo": {
     "elapsed": 396,
     "status": "ok",
     "timestamp": 1698363709756,
     "user": {
      "displayName": "Alireza Delavari",
      "userId": "06699137348216229543"
     },
     "user_tz": -210
    },
    "id": "2bg3o4bhVeDv",
    "outputId": "3c089c74-99ca-4057-a84e-805a30c3faa4"
   },
   "outputs": [
    {
     "data": {
      "text/plain": [
       "np.float64(559254.886771677)"
      ]
     },
     "execution_count": 46,
     "metadata": {},
     "output_type": "execute_result"
    }
   ],
   "source": [
    "stacked_rmse = np.sqrt(stacked_mse)\n",
    "stacked_rmse"
   ]
  },
  {
   "cell_type": "code",
   "execution_count": 47,
   "metadata": {
    "colab": {
     "base_uri": "https://localhost:8080/"
    },
    "executionInfo": {
     "elapsed": 311,
     "status": "ok",
     "timestamp": 1698363369273,
     "user": {
      "displayName": "Alireza Delavari",
      "userId": "06699137348216229543"
     },
     "user_tz": -210
    },
    "id": "XPwk9VafVluF",
    "outputId": "62738497-5287-41d9-fd1e-fe5b5ec2b371"
   },
   "outputs": [
    {
     "data": {
      "text/plain": [
       "array([4.59434474e+08, 5.79920351e+08, 4.15756484e+08, 4.82063259e+08,\n",
       "       5.54699680e+08])"
      ]
     },
     "execution_count": 47,
     "metadata": {},
     "output_type": "execute_result"
    }
   ],
   "source": [
    "-elasticnet_grid_mse_scores\n"
   ]
  },
  {
   "cell_type": "code",
   "execution_count": 48,
   "metadata": {
    "colab": {
     "base_uri": "https://localhost:8080/"
    },
    "executionInfo": {
     "elapsed": 331,
     "status": "ok",
     "timestamp": 1698363722997,
     "user": {
      "displayName": "Alireza Delavari",
      "userId": "06699137348216229543"
     },
     "user_tz": -210
    },
    "id": "YvAPVmtRXcNB",
    "outputId": "676fdf0f-3d88-4d57-d382-d5d55a5f3de8"
   },
   "outputs": [
    {
     "data": {
      "text/plain": [
       "np.float64(312766028378.0012)"
      ]
     },
     "execution_count": 48,
     "metadata": {},
     "output_type": "execute_result"
    }
   ],
   "source": [
    "stacked_mse"
   ]
  },
  {
   "cell_type": "code",
   "execution_count": 49,
   "metadata": {
    "colab": {
     "base_uri": "https://localhost:8080/"
    },
    "executionInfo": {
     "elapsed": 321,
     "status": "ok",
     "timestamp": 1698363756654,
     "user": {
      "displayName": "Alireza Delavari",
      "userId": "06699137348216229543"
     },
     "user_tz": -210
    },
    "id": "h2AY6RkQWK89",
    "outputId": "840bf237-06f8-412b-87c7-f829673f53cc"
   },
   "outputs": [
    {
     "data": {
      "text/plain": [
       "array([False, False, False, False, False])"
      ]
     },
     "execution_count": 49,
     "metadata": {},
     "output_type": "execute_result"
    }
   ],
   "source": [
    "-elasticnet_grid_mse_scores > stacked_mse"
   ]
  },
  {
   "cell_type": "code",
   "execution_count": 50,
   "metadata": {
    "colab": {
     "base_uri": "https://localhost:8080/"
    },
    "executionInfo": {
     "elapsed": 308,
     "status": "ok",
     "timestamp": 1698363858316,
     "user": {
      "displayName": "Alireza Delavari",
      "userId": "06699137348216229543"
     },
     "user_tz": -210
    },
    "id": "bo0CBpf6XxPq",
    "outputId": "50ed0c50-1e78-4d6f-9eed-acf2aaa24b0b"
   },
   "outputs": [
    {
     "name": "stdout",
     "output_type": "stream",
     "text": [
      "-498374849.3892803\n"
     ]
    }
   ],
   "source": [
    "print(np.mean(elasticnet_grid_mse_scores))"
   ]
  },
  {
   "cell_type": "code",
   "execution_count": 51,
   "metadata": {
    "colab": {
     "base_uri": "https://localhost:8080/"
    },
    "executionInfo": {
     "elapsed": 322,
     "status": "ok",
     "timestamp": 1698363952777,
     "user": {
      "displayName": "Alireza Delavari",
      "userId": "06699137348216229543"
     },
     "user_tz": -210
    },
    "id": "aiH35yE6YSZi",
    "outputId": "6bb39d06-61ed-49a4-e865-7d30b6878390"
   },
   "outputs": [
    {
     "name": "stdout",
     "output_type": "stream",
     "text": [
      "-2283822966.1058846\n"
     ]
    }
   ],
   "source": [
    "kernel_ridge_grid_mse_scores\n",
    "print(np.mean(kernel_ridge_grid_mse_scores))"
   ]
  },
  {
   "cell_type": "code",
   "execution_count": 52,
   "metadata": {
    "colab": {
     "base_uri": "https://localhost:8080/"
    },
    "executionInfo": {
     "elapsed": 3,
     "status": "ok",
     "timestamp": 1698364177896,
     "user": {
      "displayName": "Alireza Delavari",
      "userId": "06699137348216229543"
     },
     "user_tz": -210
    },
    "id": "j4IlyMs9ZArD",
    "outputId": "594ebdf8-0b49-45ca-8f62-cbd2cc11f5e0"
   },
   "outputs": [
    {
     "name": "stdout",
     "output_type": "stream",
     "text": [
      "-32164958.545431864\n"
     ]
    }
   ],
   "source": [
    "lasso_grid_mse_scores\n",
    "print(np.mean(lasso_grid_mse_scores))"
   ]
  }
 ],
 "metadata": {
  "colab": {
   "authorship_tag": "ABX9TyOdtLo5l6ZMjWuXdrL1jyyI",
   "mount_file_id": "1f4xLUc71FT85tLRoh3x86zH8KGC4hpxh",
   "provenance": []
  },
  "kernelspec": {
   "display_name": "Python 3",
   "name": "python3"
  },
  "language_info": {
   "codemirror_mode": {
    "name": "ipython",
    "version": 3
   },
   "file_extension": ".py",
   "mimetype": "text/x-python",
   "name": "python",
   "nbconvert_exporter": "python",
   "pygments_lexer": "ipython3",
   "version": "3.12.4"
  }
 },
 "nbformat": 4,
 "nbformat_minor": 0
}
